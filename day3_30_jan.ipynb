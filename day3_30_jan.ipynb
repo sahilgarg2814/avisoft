{
 "cells": [
  {
   "cell_type": "code",
   "execution_count": 1,
   "metadata": {},
   "outputs": [
    {
     "data": {
      "text/plain": [
       "2"
      ]
     },
     "execution_count": 1,
     "metadata": {},
     "output_type": "execute_result"
    }
   ],
   "source": [
    "n=int(input(\"enter the size of the array: \"))\n",
    "x=int(input(\"enter the element for which you had to find the occurance\"))\n",
    "lst=[]\n",
    "for i in range(n):\n",
    "    ele=int(input(\"enter the number: \"))\n",
    "    lst.append(ele)\n",
    "\n",
    "def find_of_occurances(lst):\n",
    "    dict1={}\n",
    "    for i in lst:\n",
    "        if i in dict1:\n",
    "            dict1[i]+=1\n",
    "        else:\n",
    "            dict1[i]=1\n",
    "    return dict1[x]\n",
    "\n",
    "find_of_occurances(lst)"
   ]
  },
  {
   "cell_type": "code",
   "execution_count": 2,
   "metadata": {},
   "outputs": [
    {
     "data": {
      "text/plain": [
       "(2, 3)"
      ]
     },
     "execution_count": 2,
     "metadata": {},
     "output_type": "execute_result"
    }
   ],
   "source": [
    "n=int(input(\"enter the size of the array: \"))\n",
    "x=int(input(\"enter the element for which you had to find the first and last position\"))\n",
    "lst=[]\n",
    "for i in range(n):\n",
    "    ele=int(input(\"enter the number: \"))\n",
    "    lst.append(ele)\n",
    "\n",
    "def first_and_last_position(lst):\n",
    "    flag=True\n",
    "    first,last=-1,-1\n",
    "    if lst[n-1]==x:\n",
    "        last=n-1\n",
    "    for i in range(n-1):\n",
    "         if lst[i]==x:\n",
    "            if flag:\n",
    "                first=i\n",
    "                flag=False\n",
    "            elif lst[i+1]!=x:\n",
    "                last=i\n",
    "    return first,last\n",
    "            \n",
    "first_and_last_position(lst)\n",
    "\n"
   ]
  },
  {
   "cell_type": "code",
   "execution_count": 4,
   "metadata": {},
   "outputs": [
    {
     "data": {
      "text/plain": [
       "[2]"
      ]
     },
     "execution_count": 4,
     "metadata": {},
     "output_type": "execute_result"
    }
   ],
   "source": [
    "n=int(input(\"enter the size of the array: \"))\n",
    "lst=[]\n",
    "for i in range(n):\n",
    "    ele=int(input(\"enter the number: \"))\n",
    "    lst.append(ele)\n",
    "\n",
    "def duplicates(lst):\n",
    "    dict1={}\n",
    "    ans=[]\n",
    "    for i in lst:\n",
    "        if i in dict1:\n",
    "            dict1[i]+=1\n",
    "        else:\n",
    "            dict1[i]=1\n",
    "    \n",
    "    for key,value in dict1.items():\n",
    "        if value>1:\n",
    "            ans.append(key)\n",
    "    return ans\n",
    "\n",
    "duplicates(lst)\n"
   ]
  },
  {
   "cell_type": "code",
   "execution_count": 2,
   "metadata": {},
   "outputs": [
    {
     "data": {
      "text/plain": [
       "5"
      ]
     },
     "execution_count": 2,
     "metadata": {},
     "output_type": "execute_result"
    }
   ],
   "source": [
    "n=int(input(\"enter the size of the array: \"))\n",
    "arr=[]\n",
    "for i in range(n):\n",
    "    ele=int(input(\"enter the number: \"))\n",
    "    arr.append(ele)\n",
    "\n",
    "def binary_search(arr,low,end):\n",
    "    mid=-1\n",
    "    while low<=end:\n",
    "        mid=(low+end)//2\n",
    "        if arr[mid] ==1 and (mid==0 or arr[mid-1]==0):\n",
    "            break\n",
    "        elif arr[mid]==1:\n",
    "            end=mid-1\n",
    "        else:\n",
    "            low=mid+1\n",
    "    return mid\n",
    "\n",
    "def pos_of_first_one(arr):\n",
    "    l,h=0,1\n",
    "    while arr[h]==0:\n",
    "        l=h\n",
    "        h=2*h\n",
    "    return binary_search(arr,l,h)\n",
    "\n",
    "pos_of_first_one(arr)\n"
   ]
  }
 ],
 "metadata": {
  "kernelspec": {
   "display_name": "Python 3",
   "language": "python",
   "name": "python3"
  },
  "language_info": {
   "codemirror_mode": {
    "name": "ipython",
    "version": 3
   },
   "file_extension": ".py",
   "mimetype": "text/x-python",
   "name": "python",
   "nbconvert_exporter": "python",
   "pygments_lexer": "ipython3",
   "version": "3.11.4"
  }
 },
 "nbformat": 4,
 "nbformat_minor": 2
}
