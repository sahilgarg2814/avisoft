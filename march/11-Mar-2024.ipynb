{
 "cells": [
  {
   "cell_type": "markdown",
   "metadata": {},
   "source": [
    "Ecommerce Purchases Exercise\n",
    "In this Exercise you will be given some Fake Data about some purchases done through Amazon! Just go ahead and follow the directions and try your best to answer the questions and complete the tasks. Feel free to reference the solutions. Most of the tasks can be solved in different ways. For the most part, the questions get progressively harder.\n",
    "\n",
    "Please excuse anything that doesn't make \"Real-World\" sense in the dataframe, all the data is fake and made-up.\n",
    "\n",
    "Also note that all of these questions can be answered with one line of code."
   ]
  },
  {
   "cell_type": "code",
   "execution_count": 1,
   "metadata": {},
   "outputs": [],
   "source": [
    "import pandas as pd\n",
    "import numpy as np"
   ]
  },
  {
   "cell_type": "code",
   "execution_count": 5,
   "metadata": {},
   "outputs": [
    {
     "name": "stdout",
     "output_type": "stream",
     "text": [
      "                                                Address    Lot AM or PM  \\\n",
      "0     16629 Pace Camp Apt. 448\\nAlexisborough, NE 77...  46 in       PM   \n",
      "1     9374 Jasmine Spurs Suite 508\\nSouth John, TN 8...  28 rn       PM   \n",
      "2                      Unit 0065 Box 5052\\nDPO AP 27450  94 vE       PM   \n",
      "3                 7780 Julia Fords\\nNew Stacy, WA 45798  36 vm       PM   \n",
      "4     23012 Munoz Drive Suite 337\\nNew Cynthia, TX 5...  20 IE       AM   \n",
      "...                                                 ...    ...      ...   \n",
      "9995      966 Castaneda Locks\\nWest Juliafurt, CO 96415  92 XI       PM   \n",
      "9996  832 Curtis Dam Suite 785\\nNorth Edwardburgh, T...  41 JY       AM   \n",
      "9997              Unit 4434 Box 6343\\nDPO AE 28026-0283  74 Zh       AM   \n",
      "9998               0096 English Rest\\nRoystad, IA 12457  74 cL       PM   \n",
      "9999     40674 Barrett Stravenue\\nGrimesville, WI 79682  64 Hr       AM   \n",
      "\n",
      "                                           Browser Info  \\\n",
      "0     Opera/9.56.(X11; Linux x86_64; sl-SI) Presto/2...   \n",
      "1     Opera/8.93.(Windows 98; Win 9x 4.90; en-US) Pr...   \n",
      "2     Mozilla/5.0 (compatible; MSIE 9.0; Windows NT ...   \n",
      "3     Mozilla/5.0 (Macintosh; Intel Mac OS X 10_8_0 ...   \n",
      "4     Opera/9.58.(X11; Linux x86_64; it-IT) Presto/2...   \n",
      "...                                                 ...   \n",
      "9995  Mozilla/5.0 (Windows NT 5.1) AppleWebKit/5352 ...   \n",
      "9996  Mozilla/5.0 (compatible; MSIE 9.0; Windows NT ...   \n",
      "9997  Mozilla/5.0 (Macintosh; U; Intel Mac OS X 10_7...   \n",
      "9998  Mozilla/5.0 (Macintosh; Intel Mac OS X 10_8_8;...   \n",
      "9999  Mozilla/5.0 (X11; Linux i686; rv:1.9.5.20) Gec...   \n",
      "\n",
      "                              Company       Credit Card CC Exp Date  \\\n",
      "0                     Martinez-Herman  6011929061123406       02/20   \n",
      "1     Fletcher, Richards and Whitaker  3337758169645356       11/18   \n",
      "2          Simpson, Williams and Pham      675957666125       08/19   \n",
      "3     Williams, Marshall and Buchanan  6011578504430710       02/24   \n",
      "4           Brown, Watson and Andrews  6011456623207998       10/25   \n",
      "...                               ...               ...         ...   \n",
      "9995                    Randall-Sloan   342945015358701       03/22   \n",
      "9996         Hale, Collins and Wilson   210033169205009       07/25   \n",
      "9997                     Anderson Ltd  6011539787356311       05/21   \n",
      "9998                         Cook Inc   180003348082930       11/17   \n",
      "9999                       Greene Inc  4139972901927273       02/19   \n",
      "\n",
      "      CC Security Code                  CC Provider  \\\n",
      "0                  900                 JCB 16 digit   \n",
      "1                  561                   Mastercard   \n",
      "2                  699                 JCB 16 digit   \n",
      "3                  384                     Discover   \n",
      "4                  678  Diners Club / Carte Blanche   \n",
      "...                ...                          ...   \n",
      "9995               838                 JCB 15 digit   \n",
      "9996               207                 JCB 16 digit   \n",
      "9997                 1                VISA 16 digit   \n",
      "9998               987             American Express   \n",
      "9999               302                 JCB 15 digit   \n",
      "\n",
      "                               Email                                     Job  \\\n",
      "0                  pdunlap@yahoo.com  Scientist, product/process development   \n",
      "1                 anthony41@reed.com                       Drilling engineer   \n",
      "2     amymiller@morales-harrison.com                Customer service manager   \n",
      "3        brent16@olson-robinson.info                       Drilling engineer   \n",
      "4        christopherwright@gmail.com                             Fine artist   \n",
      "...                              ...                                     ...   \n",
      "9995          iscott@wade-garner.com                              Printmaker   \n",
      "9996              mary85@hotmail.com                         Energy engineer   \n",
      "9997               tyler16@gmail.com                      Veterinary surgeon   \n",
      "9998         elizabethmoore@reid.net                Local government officer   \n",
      "9999           rachelford@vaughn.com                  Embryologist, clinical   \n",
      "\n",
      "           IP Address Language  Purchase Price  \n",
      "0     149.146.147.205       el           98.14  \n",
      "1        15.160.41.51       fr           70.73  \n",
      "2      132.207.160.22       de            0.95  \n",
      "3        30.250.74.19       es           78.04  \n",
      "4        24.140.33.94       es           77.82  \n",
      "...               ...      ...             ...  \n",
      "9995    29.73.197.114       it           82.21  \n",
      "9996   121.133.168.51       pt           25.63  \n",
      "9997    156.210.0.254       el           83.98  \n",
      "9998     55.78.26.143       es           38.84  \n",
      "9999  176.119.198.199       el           67.59  \n",
      "\n",
      "[10000 rows x 14 columns]\n"
     ]
    }
   ],
   "source": [
    "dataframe=pd.read_csv(r\"D:\\datasets2\\Ecommerce Purchases.txt\",sep=\",\")\n",
    "print(dataframe)"
   ]
  },
  {
   "cell_type": "markdown",
   "metadata": {},
   "source": [
    "1.Check the head of the DataFrame."
   ]
  },
  {
   "cell_type": "code",
   "execution_count": 7,
   "metadata": {},
   "outputs": [
    {
     "data": {
      "text/html": [
       "<div>\n",
       "<style scoped>\n",
       "    .dataframe tbody tr th:only-of-type {\n",
       "        vertical-align: middle;\n",
       "    }\n",
       "\n",
       "    .dataframe tbody tr th {\n",
       "        vertical-align: top;\n",
       "    }\n",
       "\n",
       "    .dataframe thead th {\n",
       "        text-align: right;\n",
       "    }\n",
       "</style>\n",
       "<table border=\"1\" class=\"dataframe\">\n",
       "  <thead>\n",
       "    <tr style=\"text-align: right;\">\n",
       "      <th></th>\n",
       "      <th>Address</th>\n",
       "      <th>Lot</th>\n",
       "      <th>AM or PM</th>\n",
       "      <th>Browser Info</th>\n",
       "      <th>Company</th>\n",
       "      <th>Credit Card</th>\n",
       "      <th>CC Exp Date</th>\n",
       "      <th>CC Security Code</th>\n",
       "      <th>CC Provider</th>\n",
       "      <th>Email</th>\n",
       "      <th>Job</th>\n",
       "      <th>IP Address</th>\n",
       "      <th>Language</th>\n",
       "      <th>Purchase Price</th>\n",
       "    </tr>\n",
       "  </thead>\n",
       "  <tbody>\n",
       "  </tbody>\n",
       "</table>\n",
       "</div>"
      ],
      "text/plain": [
       "Empty DataFrame\n",
       "Columns: [Address, Lot, AM or PM, Browser Info, Company, Credit Card, CC Exp Date, CC Security Code, CC Provider, Email, Job, IP Address, Language, Purchase Price]\n",
       "Index: []"
      ]
     },
     "execution_count": 7,
     "metadata": {},
     "output_type": "execute_result"
    }
   ],
   "source": [
    "dataframe.head(0)"
   ]
  },
  {
   "cell_type": "code",
   "execution_count": 11,
   "metadata": {},
   "outputs": [
    {
     "data": {
      "text/html": [
       "<div>\n",
       "<style scoped>\n",
       "    .dataframe tbody tr th:only-of-type {\n",
       "        vertical-align: middle;\n",
       "    }\n",
       "\n",
       "    .dataframe tbody tr th {\n",
       "        vertical-align: top;\n",
       "    }\n",
       "\n",
       "    .dataframe thead th {\n",
       "        text-align: right;\n",
       "    }\n",
       "</style>\n",
       "<table border=\"1\" class=\"dataframe\">\n",
       "  <thead>\n",
       "    <tr style=\"text-align: right;\">\n",
       "      <th></th>\n",
       "      <th>Address</th>\n",
       "      <th>Lot</th>\n",
       "      <th>AM or PM</th>\n",
       "      <th>Browser Info</th>\n",
       "      <th>Company</th>\n",
       "      <th>Credit Card</th>\n",
       "      <th>CC Exp Date</th>\n",
       "      <th>CC Security Code</th>\n",
       "      <th>CC Provider</th>\n",
       "      <th>Email</th>\n",
       "      <th>Job</th>\n",
       "      <th>IP Address</th>\n",
       "      <th>Language</th>\n",
       "      <th>Purchase Price</th>\n",
       "    </tr>\n",
       "  </thead>\n",
       "  <tbody>\n",
       "    <tr>\n",
       "      <th>0</th>\n",
       "      <td>16629 Pace Camp Apt. 448\\nAlexisborough, NE 77...</td>\n",
       "      <td>46 in</td>\n",
       "      <td>PM</td>\n",
       "      <td>Opera/9.56.(X11; Linux x86_64; sl-SI) Presto/2...</td>\n",
       "      <td>Martinez-Herman</td>\n",
       "      <td>6011929061123406</td>\n",
       "      <td>02/20</td>\n",
       "      <td>900</td>\n",
       "      <td>JCB 16 digit</td>\n",
       "      <td>pdunlap@yahoo.com</td>\n",
       "      <td>Scientist, product/process development</td>\n",
       "      <td>149.146.147.205</td>\n",
       "      <td>el</td>\n",
       "      <td>98.14</td>\n",
       "    </tr>\n",
       "    <tr>\n",
       "      <th>1</th>\n",
       "      <td>9374 Jasmine Spurs Suite 508\\nSouth John, TN 8...</td>\n",
       "      <td>28 rn</td>\n",
       "      <td>PM</td>\n",
       "      <td>Opera/8.93.(Windows 98; Win 9x 4.90; en-US) Pr...</td>\n",
       "      <td>Fletcher, Richards and Whitaker</td>\n",
       "      <td>3337758169645356</td>\n",
       "      <td>11/18</td>\n",
       "      <td>561</td>\n",
       "      <td>Mastercard</td>\n",
       "      <td>anthony41@reed.com</td>\n",
       "      <td>Drilling engineer</td>\n",
       "      <td>15.160.41.51</td>\n",
       "      <td>fr</td>\n",
       "      <td>70.73</td>\n",
       "    </tr>\n",
       "    <tr>\n",
       "      <th>2</th>\n",
       "      <td>Unit 0065 Box 5052\\nDPO AP 27450</td>\n",
       "      <td>94 vE</td>\n",
       "      <td>PM</td>\n",
       "      <td>Mozilla/5.0 (compatible; MSIE 9.0; Windows NT ...</td>\n",
       "      <td>Simpson, Williams and Pham</td>\n",
       "      <td>675957666125</td>\n",
       "      <td>08/19</td>\n",
       "      <td>699</td>\n",
       "      <td>JCB 16 digit</td>\n",
       "      <td>amymiller@morales-harrison.com</td>\n",
       "      <td>Customer service manager</td>\n",
       "      <td>132.207.160.22</td>\n",
       "      <td>de</td>\n",
       "      <td>0.95</td>\n",
       "    </tr>\n",
       "    <tr>\n",
       "      <th>3</th>\n",
       "      <td>7780 Julia Fords\\nNew Stacy, WA 45798</td>\n",
       "      <td>36 vm</td>\n",
       "      <td>PM</td>\n",
       "      <td>Mozilla/5.0 (Macintosh; Intel Mac OS X 10_8_0 ...</td>\n",
       "      <td>Williams, Marshall and Buchanan</td>\n",
       "      <td>6011578504430710</td>\n",
       "      <td>02/24</td>\n",
       "      <td>384</td>\n",
       "      <td>Discover</td>\n",
       "      <td>brent16@olson-robinson.info</td>\n",
       "      <td>Drilling engineer</td>\n",
       "      <td>30.250.74.19</td>\n",
       "      <td>es</td>\n",
       "      <td>78.04</td>\n",
       "    </tr>\n",
       "    <tr>\n",
       "      <th>4</th>\n",
       "      <td>23012 Munoz Drive Suite 337\\nNew Cynthia, TX 5...</td>\n",
       "      <td>20 IE</td>\n",
       "      <td>AM</td>\n",
       "      <td>Opera/9.58.(X11; Linux x86_64; it-IT) Presto/2...</td>\n",
       "      <td>Brown, Watson and Andrews</td>\n",
       "      <td>6011456623207998</td>\n",
       "      <td>10/25</td>\n",
       "      <td>678</td>\n",
       "      <td>Diners Club / Carte Blanche</td>\n",
       "      <td>christopherwright@gmail.com</td>\n",
       "      <td>Fine artist</td>\n",
       "      <td>24.140.33.94</td>\n",
       "      <td>es</td>\n",
       "      <td>77.82</td>\n",
       "    </tr>\n",
       "  </tbody>\n",
       "</table>\n",
       "</div>"
      ],
      "text/plain": [
       "                                             Address    Lot AM or PM  \\\n",
       "0  16629 Pace Camp Apt. 448\\nAlexisborough, NE 77...  46 in       PM   \n",
       "1  9374 Jasmine Spurs Suite 508\\nSouth John, TN 8...  28 rn       PM   \n",
       "2                   Unit 0065 Box 5052\\nDPO AP 27450  94 vE       PM   \n",
       "3              7780 Julia Fords\\nNew Stacy, WA 45798  36 vm       PM   \n",
       "4  23012 Munoz Drive Suite 337\\nNew Cynthia, TX 5...  20 IE       AM   \n",
       "\n",
       "                                        Browser Info  \\\n",
       "0  Opera/9.56.(X11; Linux x86_64; sl-SI) Presto/2...   \n",
       "1  Opera/8.93.(Windows 98; Win 9x 4.90; en-US) Pr...   \n",
       "2  Mozilla/5.0 (compatible; MSIE 9.0; Windows NT ...   \n",
       "3  Mozilla/5.0 (Macintosh; Intel Mac OS X 10_8_0 ...   \n",
       "4  Opera/9.58.(X11; Linux x86_64; it-IT) Presto/2...   \n",
       "\n",
       "                           Company       Credit Card CC Exp Date  \\\n",
       "0                  Martinez-Herman  6011929061123406       02/20   \n",
       "1  Fletcher, Richards and Whitaker  3337758169645356       11/18   \n",
       "2       Simpson, Williams and Pham      675957666125       08/19   \n",
       "3  Williams, Marshall and Buchanan  6011578504430710       02/24   \n",
       "4        Brown, Watson and Andrews  6011456623207998       10/25   \n",
       "\n",
       "   CC Security Code                  CC Provider  \\\n",
       "0               900                 JCB 16 digit   \n",
       "1               561                   Mastercard   \n",
       "2               699                 JCB 16 digit   \n",
       "3               384                     Discover   \n",
       "4               678  Diners Club / Carte Blanche   \n",
       "\n",
       "                            Email                                     Job  \\\n",
       "0               pdunlap@yahoo.com  Scientist, product/process development   \n",
       "1              anthony41@reed.com                       Drilling engineer   \n",
       "2  amymiller@morales-harrison.com                Customer service manager   \n",
       "3     brent16@olson-robinson.info                       Drilling engineer   \n",
       "4     christopherwright@gmail.com                             Fine artist   \n",
       "\n",
       "        IP Address Language  Purchase Price  \n",
       "0  149.146.147.205       el           98.14  \n",
       "1     15.160.41.51       fr           70.73  \n",
       "2   132.207.160.22       de            0.95  \n",
       "3     30.250.74.19       es           78.04  \n",
       "4     24.140.33.94       es           77.82  "
      ]
     },
     "execution_count": 11,
     "metadata": {},
     "output_type": "execute_result"
    }
   ],
   "source": [
    "dataframe.head()"
   ]
  },
  {
   "cell_type": "markdown",
   "metadata": {},
   "source": [
    "2. How many rows and columns are there?"
   ]
  },
  {
   "cell_type": "code",
   "execution_count": 12,
   "metadata": {},
   "outputs": [
    {
     "name": "stdout",
     "output_type": "stream",
     "text": [
      "No of rows in dataframe : 10000\n",
      "No of columns in dataframe : 14\n"
     ]
    }
   ],
   "source": [
    "rows_columns=dataframe.shape\n",
    "print(f\"No of rows in dataframe : {rows_columns[0]}\")\n",
    "print(f\"No of columns in dataframe : {rows_columns[1]}\")"
   ]
  },
  {
   "cell_type": "markdown",
   "metadata": {},
   "source": [
    "3.What is the average Purchase Price?"
   ]
  },
  {
   "cell_type": "code",
   "execution_count": 13,
   "metadata": {},
   "outputs": [
    {
     "name": "stdout",
     "output_type": "stream",
     "text": [
      "Average puchace price: 50.347302\n"
     ]
    }
   ],
   "source": [
    "print(f\"Average puchace price: {dataframe['Purchase Price'].mean()}\")"
   ]
  },
  {
   "cell_type": "markdown",
   "metadata": {},
   "source": [
    "4.What were the highest and lowest purchase prices?"
   ]
  },
  {
   "cell_type": "code",
   "execution_count": 14,
   "metadata": {},
   "outputs": [
    {
     "name": "stdout",
     "output_type": "stream",
     "text": [
      "highest puchace price: 99.99\n",
      "lowest puchace price: 0.0\n"
     ]
    }
   ],
   "source": [
    "print(f\"highest puchace price: {dataframe['Purchase Price'].max()}\")\n",
    "print(f\"lowest puchace price: {dataframe['Purchase Price'].min()}\")"
   ]
  },
  {
   "cell_type": "markdown",
   "metadata": {},
   "source": [
    "5.How many people have English 'en' as their Language of choice on the website?"
   ]
  },
  {
   "cell_type": "code",
   "execution_count": 15,
   "metadata": {},
   "outputs": [
    {
     "name": "stdout",
     "output_type": "stream",
     "text": [
      "the no of people who have english as their language choice on the website: 1098\n"
     ]
    }
   ],
   "source": [
    "print(f\"the no of people who have english as their language choice on the website: {(dataframe['Language']=='en').sum()}\")"
   ]
  },
  {
   "cell_type": "markdown",
   "metadata": {},
   "source": [
    "6.How many people have the job title of \"Lawyer\" ? "
   ]
  },
  {
   "cell_type": "code",
   "execution_count": 16,
   "metadata": {},
   "outputs": [
    {
     "name": "stdout",
     "output_type": "stream",
     "text": [
      "the no. of people who ave their job title as lawyer: 30\n"
     ]
    }
   ],
   "source": [
    "print(f\"the no. of people who ave their job title as lawyer: {(dataframe['Job']=='Lawyer').sum()}\")"
   ]
  },
  {
   "cell_type": "markdown",
   "metadata": {},
   "source": [
    "7.How many people made the purchase during the AM and how many people made the purchase during PM ? "
   ]
  },
  {
   "cell_type": "code",
   "execution_count": 19,
   "metadata": {},
   "outputs": [
    {
     "name": "stdout",
     "output_type": "stream",
     "text": [
      "the number of people who purchase during AM : 4932\n",
      "the number of people who purchase during PM : 5068\n"
     ]
    }
   ],
   "source": [
    "print(f\"the number of people who purchase during AM : {(dataframe['AM or PM']=='AM').sum()}\")\n",
    "print(f\"the number of people who purchase during PM : {(dataframe['AM or PM']=='PM').sum()}\")"
   ]
  },
  {
   "cell_type": "markdown",
   "metadata": {},
   "source": [
    "8.What are the 5 most common Job Titles?"
   ]
  },
  {
   "cell_type": "code",
   "execution_count": 29,
   "metadata": {},
   "outputs": [
    {
     "name": "stdout",
     "output_type": "stream",
     "text": [
      "the five most common job titles are: ['Interior and spatial designer', 'Lawyer', 'Social researcher', 'Purchasing manager', 'Designer, jewellery']\n"
     ]
    }
   ],
   "source": [
    "# value_counts and sort_values function here\n",
    "job_titles=dataframe['Job'].value_counts().sort_values(ascending=False)\n",
    "print(f\"the five most common job titles are: {list(job_titles[:5].index)}\")"
   ]
  },
  {
   "cell_type": "markdown",
   "metadata": {},
   "source": [
    "9.Someone made a purchase that came from Lot: \"90 WT\" , what was the Purchase Price for this transaction?"
   ]
  },
  {
   "cell_type": "code",
   "execution_count": 45,
   "metadata": {},
   "outputs": [
    {
     "name": "stdout",
     "output_type": "stream",
     "text": [
      "the purchase price for lot '90 WT' is: [75.1]\n"
     ]
    }
   ],
   "source": [
    "lot_90_WT=dataframe[dataframe['Lot']=='90 WT']\n",
    "print(f\"the purchase price for lot '90 WT' is: {lot_90_WT['Purchase Price'].values}\")"
   ]
  },
  {
   "cell_type": "markdown",
   "metadata": {},
   "source": [
    "10.What is the email of the person with the following Credit Card Number: 4926535242672853"
   ]
  },
  {
   "cell_type": "code",
   "execution_count": 34,
   "metadata": {},
   "outputs": [
    {
     "name": "stdout",
     "output_type": "stream",
     "text": [
      "the email for credit card number 4926535242672853: ['bondellen@williams-garza.com']\n"
     ]
    }
   ],
   "source": [
    "email_for_particula_credit_card=dataframe[dataframe['Credit Card']==4926535242672853]\n",
    "print(f\"the email for credit card number 4926535242672853: {email_for_particula_credit_card['Email'].values}\")"
   ]
  },
  {
   "cell_type": "markdown",
   "metadata": {},
   "source": [
    "11.How many people have American Express as their Credit Card Provider and made a purchase above $95 ?"
   ]
  },
  {
   "cell_type": "code",
   "execution_count": 42,
   "metadata": {},
   "outputs": [
    {
     "name": "stdout",
     "output_type": "stream",
     "text": [
      "the no of people who have American Express as their Credit Card Provider and made a purchase above $95: 86\n"
     ]
    }
   ],
   "source": [
    "American_express_and_purchase_above_95=dataframe[(dataframe['CC Provider']=='American Express') & (dataframe['Purchase Price']>90.0)].shape[0]\n",
    "print(F\"the no of people who have American Express as their Credit Card Provider and made a purchase above $95: {American_express_and_purchase_above_95}\")\n"
   ]
  },
  {
   "cell_type": "code",
   "execution_count": 37,
   "metadata": {},
   "outputs": [
    {
     "name": "stdout",
     "output_type": "stream",
     "text": [
      "<class 'pandas.core.frame.DataFrame'>\n",
      "RangeIndex: 10000 entries, 0 to 9999\n",
      "Data columns (total 14 columns):\n",
      " #   Column            Non-Null Count  Dtype  \n",
      "---  ------            --------------  -----  \n",
      " 0   Address           10000 non-null  object \n",
      " 1   Lot               10000 non-null  object \n",
      " 2   AM or PM          10000 non-null  object \n",
      " 3   Browser Info      10000 non-null  object \n",
      " 4   Company           10000 non-null  object \n",
      " 5   Credit Card       10000 non-null  int64  \n",
      " 6   CC Exp Date       10000 non-null  object \n",
      " 7   CC Security Code  10000 non-null  int64  \n",
      " 8   CC Provider       10000 non-null  object \n",
      " 9   Email             10000 non-null  object \n",
      " 10  Job               10000 non-null  object \n",
      " 11  IP Address        10000 non-null  object \n",
      " 12  Language          10000 non-null  object \n",
      " 13  Purchase Price    10000 non-null  float64\n",
      "dtypes: float64(1), int64(2), object(11)\n",
      "memory usage: 1.1+ MB\n"
     ]
    }
   ],
   "source": [
    "dataframe.info()"
   ]
  },
  {
   "cell_type": "markdown",
   "metadata": {},
   "source": [
    "12.How many people have a credit card that expires in 2025? "
   ]
  },
  {
   "cell_type": "code",
   "execution_count": 43,
   "metadata": {},
   "outputs": [
    {
     "name": "stdout",
     "output_type": "stream",
     "text": [
      "the no of people who have their credit card that expires in 2025: 0\n"
     ]
    }
   ],
   "source": [
    "print(f\"the no of people who have their credit card that expires in 2025: {(dataframe['CC Exp Date']=='2025').sum()}\")"
   ]
  },
  {
   "cell_type": "markdown",
   "metadata": {},
   "source": [
    "13.What are the top 5 most popular email providers/hosts (e.g. gmail.com, yahoo.com, etc...)"
   ]
  },
  {
   "cell_type": "code",
   "execution_count": 50,
   "metadata": {},
   "outputs": [
    {
     "name": "stdout",
     "output_type": "stream",
     "text": [
      "['hotmail.com', 'yahoo.com', 'gmail.com', 'smith.com', 'williams.com']\n"
     ]
    }
   ],
   "source": [
    "def email_provider(df):\n",
    "    return df['Email'].split(\"@\")[1]\n",
    "\n",
    "dataframe['email_provider']=dataframe.apply(email_provider,axis=1)\n",
    "\n",
    "# top 5 common mails \n",
    "# value_counts and sort_values function here\n",
    "print(list(dataframe['email_provider'].value_counts().sort_values(ascending=False).index[:5]))"
   ]
  }
 ],
 "metadata": {
  "kernelspec": {
   "display_name": "Python 3",
   "language": "python",
   "name": "python3"
  },
  "language_info": {
   "codemirror_mode": {
    "name": "ipython",
    "version": 3
   },
   "file_extension": ".py",
   "mimetype": "text/x-python",
   "name": "python",
   "nbconvert_exporter": "python",
   "pygments_lexer": "ipython3",
   "version": "3.11.4"
  }
 },
 "nbformat": 4,
 "nbformat_minor": 2
}
