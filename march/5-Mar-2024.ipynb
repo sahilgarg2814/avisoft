{
 "cells": [
  {
   "cell_type": "markdown",
   "metadata": {},
   "source": [
    "1.You are given the following :\n",
    "\n",
    "A positive number N\n",
    "Heights : A list of heights of N persons standing in a queue\n",
    "Infronts : A list of numbers corresponding to each person (P) that gives the number of persons who are taller than P and standing in front of P\n",
    "You need to return  list of actual order of persons’s height\n",
    "\n",
    "Consider that heights will be unique\n",
    "\n",
    "Example\n",
    "\n",
    "Input : \n",
    "Heights: 5 3 2 6 1 4\n",
    "InFronts: 0 1 2 0 3 2\n",
    "Output : \n",
    "actual order is: 5 3 2 1 6 4 \n",
    "So, you can see that for the person with height 5, there is no one taller than him who is in front of him, and hence Infronts has 0 for him.\n",
    "\n",
    "For person with height 3, there is 1 person ( Height : 5 ) in front of him who is taller than him.\n",
    "\n",
    "You can do similar inference for other people in the list."
   ]
  },
  {
   "cell_type": "code",
   "execution_count": 1,
   "metadata": {},
   "outputs": [
    {
     "name": "stdout",
     "output_type": "stream",
     "text": [
      "[[1, 3], [2, 2], [3, 1], [4, 2], [5, 0], [6, 0]]\n",
      "[5, 3, 2, 1, 6, 4]\n"
     ]
    }
   ],
   "source": [
    "heights=[5,3,2,6,1,4]\n",
    "infronts=[0,1,2,0,3,2]\n",
    "\n",
    "def order(a,b):\n",
    "    n=len(a)\n",
    "    v=[]\n",
    "\n",
    "    for i in range(n):\n",
    "        v.append([a[i],b[i]])\n",
    "    \n",
    "    v.sort(key=lambda x:x[0])  # we are gonna sort on a in ascending order\n",
    "\n",
    "    print(v)\n",
    "\n",
    "    ans=[0]*n\n",
    "    empt=list(range(n))\n",
    "\n",
    "    for i in range(n):\n",
    "        infront=v[i][1]\n",
    "        for j in range(n):\n",
    "            if empt[j] != -1  and empt[j]==infront:   \n",
    "                ans[j]=v[i][0]\n",
    "                empt[j]=-1\n",
    "                for k in range(j+1,n):\n",
    "                    empt[k]-=1\n",
    "                break\n",
    "    \n",
    "    return ans\n",
    "\n",
    "# if we take a persons one by one in the order of increasing heights, let we took a person and put it at its correct place \n",
    "# then number of vacant places at its left must be equal to its infronts value (because all the person who are shorter \n",
    "# than current person are already placed and the person who are remaining are taller, which will come at these empty places \n",
    "# at left to meet the condition of infronts.)\n",
    "\n",
    "print(order(heights,infronts))\n"
   ]
  },
  {
   "cell_type": "markdown",
   "metadata": {},
   "source": [
    "2.Find shortest unique prefix to represent each word in the list.\n",
    "\n",
    "Example:\n",
    "\n",
    "Input: [zebra, dog, duck, dove]\n",
    "Output: {z, dog, du, dov}\n",
    "where we can see that\n",
    "zebra = z\n",
    "dog = dog\n",
    "duck = du\n",
    "dove = dov\n",
    "NOTE : Assume that no word is prefix of another. In other words, the representation is always possible."
   ]
  },
  {
   "cell_type": "code",
   "execution_count": 2,
   "metadata": {},
   "outputs": [
    {
     "name": "stdout",
     "output_type": "stream",
     "text": [
      "['dog', 'dov', 'du', 'z']\n"
     ]
    }
   ],
   "source": [
    "def unique_prefix(a):\n",
    "    size=len(a)\n",
    "    res=[0]*(size)\n",
    "    a=sorted(a)\n",
    "    j=0\n",
    "\n",
    "    while (j<min(len(a[0])-1,len(a[1])-1)):\n",
    "        if a[0][j]==a[1][j]:\n",
    "            j+=1\n",
    "        else:\n",
    "            break\n",
    "\n",
    "    ind=0\n",
    "    res[ind]=a[0][0:j+1]\n",
    "    ind+=1\n",
    "\n",
    "    temp_prefix=a[1][0:j+1]\n",
    "    for i in range(1,size-1):\n",
    "        j=0\n",
    "        while (j<min(len(a[i])-1,len(a[i+1])-1)):\n",
    "            if a[i][j]==a[i+1][j]:\n",
    "                j+=1\n",
    "            else:\n",
    "                break\n",
    "        new_prefix=a[i][0:j+1]\n",
    "\n",
    "        if (len(temp_prefix) > len(new_prefix)):\n",
    "            res[ind]=temp_prefix\n",
    "            ind+=1\n",
    "        else:\n",
    "            res[ind]=new_prefix\n",
    "            ind+=1\n",
    "        \n",
    "        temp_prefix=a[i+1][0:j+1]\n",
    "\n",
    "    j=0\n",
    "    sec_last=a[size-2]\n",
    "    last=a[size-1]\n",
    "\n",
    "    while (j < min(len(sec_last)-1,len(last)-1)):\n",
    "        if sec_last[j]==last[j]:\n",
    "            j+=1\n",
    "        else:\n",
    "            break\n",
    "    \n",
    "    res[ind]=last[0:j+1]\n",
    "    return res\n",
    "\n",
    "# here we used a sorting based approach , we basically compare each neighbour to find the common prefix and then use a simple logic \n",
    "# of taking just 1 more character than common prefix to find unique prefix\n",
    "\n",
    "st=[ \"zebra\", \"dog\", \"duck\", \"dove\" ]\n",
    "print(unique_prefix(st))\n",
    "    "
   ]
  },
  {
   "cell_type": "markdown",
   "metadata": {},
   "source": [
    "3.Given a 2 x N grid of integer, A, choose numbers such that the sum of the numbers\n",
    "\n",
    "is maximum and no two chosen numbers are adjacent horizontally, vertically or diagonally, and return it.\n",
    "\n",
    "Note: You can choose more than 2 numbers.\n",
    "\n",
    "Input Format:\n",
    "\n",
    "The first and the only argument of input contains a 2d matrix, A.\n",
    "Output Format:\n",
    "\n",
    "Return an integer, representing the maximum possible sum.\n",
    "Constraints:\n",
    "\n",
    "1 <= N <= 20000\n",
    "1 <= A[i] <= 2000\n",
    "Example:\n",
    "\n",
    "Input 1:\n",
    "    A = [   [1]\n",
    "            [2]    ]\n",
    "\n",
    "Output 1:\n",
    "    2\n",
    "\n",
    "Explanation 1:\n",
    "    We will choose 2.\n",
    "\n",
    "Input 2:\n",
    "    A = [   [1, 2, 3, 4]\n",
    "            [2, 3, 4, 5]    ]\n",
    "    \n",
    "Output 2:\n",
    "    We will choose 3 and 5."
   ]
  },
  {
   "cell_type": "code",
   "execution_count": 3,
   "metadata": {},
   "outputs": [
    {
     "name": "stdout",
     "output_type": "stream",
     "text": [
      "1\n"
     ]
    }
   ],
   "source": [
    "def max_sum_no_adjacent(grid):\n",
    "    def helper(row,col):\n",
    "        if col >= len(grid[0]):\n",
    "            return 0\n",
    "\n",
    "        include = grid[row][col] + helper(1-row,col+1)\n",
    "        skip=helper(row,col+1)\n",
    "\n",
    "        return max(include,skip)\n",
    "    return helper(0,0)\n",
    "\n",
    "A = [   [1],\n",
    "        [2]    ]\n",
    "print(max_sum_no_adjacent(A))    # used recursion here"
   ]
  }
 ],
 "metadata": {
  "kernelspec": {
   "display_name": "Python 3",
   "language": "python",
   "name": "python3"
  },
  "language_info": {
   "codemirror_mode": {
    "name": "ipython",
    "version": 3
   },
   "file_extension": ".py",
   "mimetype": "text/x-python",
   "name": "python",
   "nbconvert_exporter": "python",
   "pygments_lexer": "ipython3",
   "version": "3.11.4"
  }
 },
 "nbformat": 4,
 "nbformat_minor": 2
}
