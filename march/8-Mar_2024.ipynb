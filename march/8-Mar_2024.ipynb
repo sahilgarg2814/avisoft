{
 "cells": [
  {
   "cell_type": "markdown",
   "metadata": {},
   "source": [
    "Spark Walmart Data Analysis Project\n",
    "\n",
    "Let's get some quick practice with your new Spark DataFrame skills, you will be asked some basic questions about some stock market data, in this case Walmart Stock from the years 2012-2017. This exercise will just ask a bunch of questions, unlike the machine learning exercises, which will be a little looser and be in the form of \"Consulting Projects\"."
   ]
  },
  {
   "cell_type": "markdown",
   "metadata": {},
   "source": [
    "1.Load the Walmart Stock CSV File, have Spark infer the data types."
   ]
  },
  {
   "cell_type": "code",
   "execution_count": 10,
   "metadata": {},
   "outputs": [],
   "source": [
    "import pandas as pd \n",
    "import numpy as np"
   ]
  },
  {
   "cell_type": "code",
   "execution_count": 11,
   "metadata": {},
   "outputs": [
    {
     "name": "stdout",
     "output_type": "stream",
     "text": [
      "            Date       Open       High        Low      Close    Volume  \\\n",
      "0     2012-01-03  59.970001  61.060001  59.869999  60.330002  12668800   \n",
      "1     2012-01-04  60.209999  60.349998  59.470001  59.709999   9593300   \n",
      "2     2012-01-05  59.349998  59.619999  58.369999  59.419998  12768200   \n",
      "3     2012-01-06  59.419998  59.450001  58.869999  59.000000   8069400   \n",
      "4     2012-01-09  59.029999  59.549999  58.919998  59.180000   6679300   \n",
      "...          ...        ...        ...        ...        ...       ...   \n",
      "1253  2016-12-23  69.430000  69.750000  69.360001  69.540001   4803900   \n",
      "1254  2016-12-27  69.300003  69.820000  69.250000  69.699997   4435700   \n",
      "1255  2016-12-28  69.940002  70.000000  69.260002  69.309998   4875700   \n",
      "1256  2016-12-29  69.209999  69.519997  69.120003  69.260002   4298400   \n",
      "1257  2016-12-30  69.120003  69.430000  68.830002  69.120003   6889500   \n",
      "\n",
      "      Adj Close  \n",
      "0     52.619235  \n",
      "1     52.078475  \n",
      "2     51.825539  \n",
      "3     51.459220  \n",
      "4     51.616215  \n",
      "...         ...  \n",
      "1253  69.032411  \n",
      "1254  69.191240  \n",
      "1255  68.804087  \n",
      "1256  68.754456  \n",
      "1257  68.615479  \n",
      "\n",
      "[1258 rows x 7 columns]\n"
     ]
    }
   ],
   "source": [
    "dataframe=pd.read_csv(r\"D:\\datasets2\\walmart_stock.csv\")\n",
    "print(dataframe)"
   ]
  },
  {
   "cell_type": "code",
   "execution_count": 12,
   "metadata": {},
   "outputs": [
    {
     "name": "stdout",
     "output_type": "stream",
     "text": [
      "<class 'pandas.core.frame.DataFrame'>\n",
      "RangeIndex: 1258 entries, 0 to 1257\n",
      "Data columns (total 7 columns):\n",
      " #   Column     Non-Null Count  Dtype  \n",
      "---  ------     --------------  -----  \n",
      " 0   Date       1258 non-null   object \n",
      " 1   Open       1258 non-null   float64\n",
      " 2   High       1258 non-null   float64\n",
      " 3   Low        1258 non-null   float64\n",
      " 4   Close      1258 non-null   float64\n",
      " 5   Volume     1258 non-null   int64  \n",
      " 6   Adj Close  1258 non-null   float64\n",
      "dtypes: float64(5), int64(1), object(1)\n",
      "memory usage: 68.9+ KB\n"
     ]
    }
   ],
   "source": [
    "dataframe.info()"
   ]
  },
  {
   "cell_type": "markdown",
   "metadata": {},
   "source": [
    "2.What are the column names?"
   ]
  },
  {
   "cell_type": "code",
   "execution_count": 13,
   "metadata": {},
   "outputs": [
    {
     "name": "stdout",
     "output_type": "stream",
     "text": [
      "Index(['Date', 'Open', 'High', 'Low', 'Close', 'Volume', 'Adj Close'], dtype='object')\n"
     ]
    }
   ],
   "source": [
    "print(dataframe.columns)"
   ]
  },
  {
   "cell_type": "markdown",
   "metadata": {},
   "source": [
    "3.What does the Schema look like"
   ]
  },
  {
   "cell_type": "code",
   "execution_count": 14,
   "metadata": {},
   "outputs": [
    {
     "name": "stdout",
     "output_type": "stream",
     "text": [
      "<class 'pandas.core.frame.DataFrame'>\n",
      "RangeIndex: 1258 entries, 0 to 1257\n",
      "Data columns (total 7 columns):\n",
      " #   Column     Non-Null Count  Dtype  \n",
      "---  ------     --------------  -----  \n",
      " 0   Date       1258 non-null   object \n",
      " 1   Open       1258 non-null   float64\n",
      " 2   High       1258 non-null   float64\n",
      " 3   Low        1258 non-null   float64\n",
      " 4   Close      1258 non-null   float64\n",
      " 5   Volume     1258 non-null   int64  \n",
      " 6   Adj Close  1258 non-null   float64\n",
      "dtypes: float64(5), int64(1), object(1)\n",
      "memory usage: 68.9+ KB\n"
     ]
    }
   ],
   "source": [
    "dataframe.info()"
   ]
  },
  {
   "cell_type": "markdown",
   "metadata": {},
   "source": [
    "4.Print out the first 5 columns"
   ]
  },
  {
   "cell_type": "code",
   "execution_count": 15,
   "metadata": {},
   "outputs": [
    {
     "data": {
      "text/html": [
       "<div>\n",
       "<style scoped>\n",
       "    .dataframe tbody tr th:only-of-type {\n",
       "        vertical-align: middle;\n",
       "    }\n",
       "\n",
       "    .dataframe tbody tr th {\n",
       "        vertical-align: top;\n",
       "    }\n",
       "\n",
       "    .dataframe thead th {\n",
       "        text-align: right;\n",
       "    }\n",
       "</style>\n",
       "<table border=\"1\" class=\"dataframe\">\n",
       "  <thead>\n",
       "    <tr style=\"text-align: right;\">\n",
       "      <th></th>\n",
       "      <th>Date</th>\n",
       "      <th>Open</th>\n",
       "      <th>High</th>\n",
       "      <th>Low</th>\n",
       "      <th>Close</th>\n",
       "      <th>Volume</th>\n",
       "      <th>Adj Close</th>\n",
       "    </tr>\n",
       "  </thead>\n",
       "  <tbody>\n",
       "    <tr>\n",
       "      <th>0</th>\n",
       "      <td>2012-01-03</td>\n",
       "      <td>59.970001</td>\n",
       "      <td>61.060001</td>\n",
       "      <td>59.869999</td>\n",
       "      <td>60.330002</td>\n",
       "      <td>12668800</td>\n",
       "      <td>52.619235</td>\n",
       "    </tr>\n",
       "    <tr>\n",
       "      <th>1</th>\n",
       "      <td>2012-01-04</td>\n",
       "      <td>60.209999</td>\n",
       "      <td>60.349998</td>\n",
       "      <td>59.470001</td>\n",
       "      <td>59.709999</td>\n",
       "      <td>9593300</td>\n",
       "      <td>52.078475</td>\n",
       "    </tr>\n",
       "    <tr>\n",
       "      <th>2</th>\n",
       "      <td>2012-01-05</td>\n",
       "      <td>59.349998</td>\n",
       "      <td>59.619999</td>\n",
       "      <td>58.369999</td>\n",
       "      <td>59.419998</td>\n",
       "      <td>12768200</td>\n",
       "      <td>51.825539</td>\n",
       "    </tr>\n",
       "    <tr>\n",
       "      <th>3</th>\n",
       "      <td>2012-01-06</td>\n",
       "      <td>59.419998</td>\n",
       "      <td>59.450001</td>\n",
       "      <td>58.869999</td>\n",
       "      <td>59.000000</td>\n",
       "      <td>8069400</td>\n",
       "      <td>51.459220</td>\n",
       "    </tr>\n",
       "    <tr>\n",
       "      <th>4</th>\n",
       "      <td>2012-01-09</td>\n",
       "      <td>59.029999</td>\n",
       "      <td>59.549999</td>\n",
       "      <td>58.919998</td>\n",
       "      <td>59.180000</td>\n",
       "      <td>6679300</td>\n",
       "      <td>51.616215</td>\n",
       "    </tr>\n",
       "  </tbody>\n",
       "</table>\n",
       "</div>"
      ],
      "text/plain": [
       "         Date       Open       High        Low      Close    Volume  Adj Close\n",
       "0  2012-01-03  59.970001  61.060001  59.869999  60.330002  12668800  52.619235\n",
       "1  2012-01-04  60.209999  60.349998  59.470001  59.709999   9593300  52.078475\n",
       "2  2012-01-05  59.349998  59.619999  58.369999  59.419998  12768200  51.825539\n",
       "3  2012-01-06  59.419998  59.450001  58.869999  59.000000   8069400  51.459220\n",
       "4  2012-01-09  59.029999  59.549999  58.919998  59.180000   6679300  51.616215"
      ]
     },
     "execution_count": 15,
     "metadata": {},
     "output_type": "execute_result"
    }
   ],
   "source": [
    "dataframe.head()"
   ]
  },
  {
   "cell_type": "markdown",
   "metadata": {},
   "source": [
    "5.Use describe() to learn about the DataFrame."
   ]
  },
  {
   "cell_type": "code",
   "execution_count": 16,
   "metadata": {},
   "outputs": [
    {
     "data": {
      "text/html": [
       "<div>\n",
       "<style scoped>\n",
       "    .dataframe tbody tr th:only-of-type {\n",
       "        vertical-align: middle;\n",
       "    }\n",
       "\n",
       "    .dataframe tbody tr th {\n",
       "        vertical-align: top;\n",
       "    }\n",
       "\n",
       "    .dataframe thead th {\n",
       "        text-align: right;\n",
       "    }\n",
       "</style>\n",
       "<table border=\"1\" class=\"dataframe\">\n",
       "  <thead>\n",
       "    <tr style=\"text-align: right;\">\n",
       "      <th></th>\n",
       "      <th>Open</th>\n",
       "      <th>High</th>\n",
       "      <th>Low</th>\n",
       "      <th>Close</th>\n",
       "      <th>Volume</th>\n",
       "      <th>Adj Close</th>\n",
       "    </tr>\n",
       "  </thead>\n",
       "  <tbody>\n",
       "    <tr>\n",
       "      <th>count</th>\n",
       "      <td>1258.000000</td>\n",
       "      <td>1258.000000</td>\n",
       "      <td>1258.000000</td>\n",
       "      <td>1258.000000</td>\n",
       "      <td>1.258000e+03</td>\n",
       "      <td>1258.000000</td>\n",
       "    </tr>\n",
       "    <tr>\n",
       "      <th>mean</th>\n",
       "      <td>72.357854</td>\n",
       "      <td>72.839388</td>\n",
       "      <td>71.918601</td>\n",
       "      <td>72.388450</td>\n",
       "      <td>8.222093e+06</td>\n",
       "      <td>67.238838</td>\n",
       "    </tr>\n",
       "    <tr>\n",
       "      <th>std</th>\n",
       "      <td>6.768090</td>\n",
       "      <td>6.768187</td>\n",
       "      <td>6.744076</td>\n",
       "      <td>6.756859</td>\n",
       "      <td>4.519781e+06</td>\n",
       "      <td>6.722609</td>\n",
       "    </tr>\n",
       "    <tr>\n",
       "      <th>min</th>\n",
       "      <td>56.389999</td>\n",
       "      <td>57.060001</td>\n",
       "      <td>56.299999</td>\n",
       "      <td>56.419998</td>\n",
       "      <td>2.094900e+06</td>\n",
       "      <td>50.363689</td>\n",
       "    </tr>\n",
       "    <tr>\n",
       "      <th>25%</th>\n",
       "      <td>68.627503</td>\n",
       "      <td>69.059998</td>\n",
       "      <td>68.162503</td>\n",
       "      <td>68.632497</td>\n",
       "      <td>5.791100e+06</td>\n",
       "      <td>63.778335</td>\n",
       "    </tr>\n",
       "    <tr>\n",
       "      <th>50%</th>\n",
       "      <td>73.235000</td>\n",
       "      <td>73.725002</td>\n",
       "      <td>72.839996</td>\n",
       "      <td>73.265000</td>\n",
       "      <td>7.093500e+06</td>\n",
       "      <td>68.541162</td>\n",
       "    </tr>\n",
       "    <tr>\n",
       "      <th>75%</th>\n",
       "      <td>76.629997</td>\n",
       "      <td>77.094999</td>\n",
       "      <td>76.250000</td>\n",
       "      <td>76.709999</td>\n",
       "      <td>9.394675e+06</td>\n",
       "      <td>71.105668</td>\n",
       "    </tr>\n",
       "    <tr>\n",
       "      <th>max</th>\n",
       "      <td>90.800003</td>\n",
       "      <td>90.970001</td>\n",
       "      <td>89.250000</td>\n",
       "      <td>90.470001</td>\n",
       "      <td>8.089810e+07</td>\n",
       "      <td>84.914216</td>\n",
       "    </tr>\n",
       "  </tbody>\n",
       "</table>\n",
       "</div>"
      ],
      "text/plain": [
       "              Open         High          Low        Close        Volume  \\\n",
       "count  1258.000000  1258.000000  1258.000000  1258.000000  1.258000e+03   \n",
       "mean     72.357854    72.839388    71.918601    72.388450  8.222093e+06   \n",
       "std       6.768090     6.768187     6.744076     6.756859  4.519781e+06   \n",
       "min      56.389999    57.060001    56.299999    56.419998  2.094900e+06   \n",
       "25%      68.627503    69.059998    68.162503    68.632497  5.791100e+06   \n",
       "50%      73.235000    73.725002    72.839996    73.265000  7.093500e+06   \n",
       "75%      76.629997    77.094999    76.250000    76.709999  9.394675e+06   \n",
       "max      90.800003    90.970001    89.250000    90.470001  8.089810e+07   \n",
       "\n",
       "         Adj Close  \n",
       "count  1258.000000  \n",
       "mean     67.238838  \n",
       "std       6.722609  \n",
       "min      50.363689  \n",
       "25%      63.778335  \n",
       "50%      68.541162  \n",
       "75%      71.105668  \n",
       "max      84.914216  "
      ]
     },
     "execution_count": 16,
     "metadata": {},
     "output_type": "execute_result"
    }
   ],
   "source": [
    "dataframe.describe()"
   ]
  },
  {
   "cell_type": "markdown",
   "metadata": {},
   "source": [
    "6.There are too many decimal places for mean and stddev in the describe() dataframe. Format the numbers to just show up to two decimal places. Pay careful attention to the datatypes that .describe() returns, we didn't cover how to do this exact formatting, but we covered something very similar."
   ]
  },
  {
   "cell_type": "code",
   "execution_count": 18,
   "metadata": {},
   "outputs": [
    {
     "name": "stdout",
     "output_type": "stream",
     "text": [
      "          Open     High      Low    Close       Volume  Adj Close\n",
      "count  1258.00  1258.00  1258.00  1258.00      1258.00    1258.00\n",
      "mean     72.36    72.84    71.92    72.39   8222093.48      67.24\n",
      "std       6.77     6.77     6.74     6.76   4519780.84       6.72\n",
      "min      56.39    57.06    56.30    56.42   2094900.00      50.36\n",
      "25%      68.63    69.06    68.16    68.63   5791100.00      63.78\n",
      "50%      73.24    73.73    72.84    73.26   7093500.00      68.54\n",
      "75%      76.63    77.09    76.25    76.71   9394675.00      71.11\n",
      "max      90.80    90.97    89.25    90.47  80898100.00      84.91\n"
     ]
    }
   ],
   "source": [
    "df2=dataframe.describe()\n",
    "print(df2.round(2))"
   ]
  },
  {
   "cell_type": "markdown",
   "metadata": {},
   "source": [
    "Create a new dataframe with a column called HV Ratio that is the ratio of the High Price versus volume of stock traded for a day."
   ]
  },
  {
   "cell_type": "code",
   "execution_count": 21,
   "metadata": {},
   "outputs": [
    {
     "data": {
      "text/plain": [
       "Date         0\n",
       "Open         0\n",
       "High         0\n",
       "Low          0\n",
       "Close        0\n",
       "Volume       0\n",
       "Adj Close    0\n",
       "dtype: int64"
      ]
     },
     "execution_count": 21,
     "metadata": {},
     "output_type": "execute_result"
    }
   ],
   "source": [
    "dataframe.isnull().sum()"
   ]
  },
  {
   "cell_type": "code",
   "execution_count": 25,
   "metadata": {},
   "outputs": [
    {
     "data": {
      "text/plain": [
       "0     0.000005\n",
       "1     0.000006\n",
       "2     0.000005\n",
       "3     0.000007\n",
       "4     0.000009\n",
       "5     0.000009\n",
       "6     0.000009\n",
       "7     0.000008\n",
       "8     0.000008\n",
       "9     0.000007\n",
       "10    0.000010\n",
       "11    0.000007\n",
       "12    0.000006\n",
       "13    0.000009\n",
       "14    0.000008\n",
       "15    0.000010\n",
       "16    0.000008\n",
       "17    0.000010\n",
       "18    0.000008\n",
       "19    0.000006\n",
       "Name: hv_ratio, dtype: float64"
      ]
     },
     "execution_count": 25,
     "metadata": {},
     "output_type": "execute_result"
    }
   ],
   "source": [
    "def hv_ratio(df):\n",
    "    return df['High']/df['Volume']\n",
    "dataframe['hv_ratio']=dataframe.apply(hv_ratio,axis=1)           # created a new column using apply function\n",
    "dataframe_hv_ratio=dataframe['hv_ratio']\n",
    "dataframe_hv_ratio.head(20)                            # used head(20) to get the top 20 rows"
   ]
  },
  {
   "cell_type": "markdown",
   "metadata": {},
   "source": [
    "8.What day had the Peak High in Price?"
   ]
  },
  {
   "cell_type": "code",
   "execution_count": 29,
   "metadata": {},
   "outputs": [
    {
     "name": "stdout",
     "output_type": "stream",
     "text": [
      "761    2015-01-13\n",
      "Name: Date, dtype: object\n"
     ]
    }
   ],
   "source": [
    "high_peak=dataframe['High'].max()\n",
    "ans=dataframe[dataframe['High']==high_peak]   # simply put a condition to get the answer\n",
    "print(ans.Date)"
   ]
  },
  {
   "cell_type": "markdown",
   "metadata": {},
   "source": [
    "9.What is the max and min of the Volume column?"
   ]
  },
  {
   "cell_type": "code",
   "execution_count": 30,
   "metadata": {},
   "outputs": [
    {
     "name": "stdout",
     "output_type": "stream",
     "text": [
      "volume max: 80898100 volume min: 2094900\n"
     ]
    }
   ],
   "source": [
    "vol_max=dataframe['Volume'].max()  #used max aggregate function\n",
    "vol_min=dataframe['Volume'].min()  # used min aggregate function\n",
    "print(f\"volume max: {vol_max} volume min: {vol_min}\")"
   ]
  },
  {
   "cell_type": "markdown",
   "metadata": {},
   "source": [
    "10.How many days was the Close lower than 60 dollars?"
   ]
  },
  {
   "cell_type": "code",
   "execution_count": 33,
   "metadata": {},
   "outputs": [
    {
     "name": "stdout",
     "output_type": "stream",
     "text": [
      "81\n"
     ]
    }
   ],
   "source": [
    "ans=dataframe['Close']<60   # simply put a condition a specific column\n",
    "print(ans.sum())"
   ]
  },
  {
   "cell_type": "markdown",
   "metadata": {},
   "source": [
    "11.What percentage of the time was the High greater than 80 dollars ?"
   ]
  },
  {
   "cell_type": "code",
   "execution_count": 34,
   "metadata": {},
   "outputs": [
    {
     "name": "stdout",
     "output_type": "stream",
     "text": [
      "9.141494435612083\n"
     ]
    }
   ],
   "source": [
    "ans=dataframe['High']>80   # simply put a condition on a specific column\n",
    "total_count=ans.count()\n",
    "greater_than_80=ans.sum()\n",
    "print((greater_than_80/total_count)*100)  # found out the percentage by using the formula"
   ]
  },
  {
   "cell_type": "markdown",
   "metadata": {},
   "source": [
    "12.What is the Pearson correlation between High and Volume?"
   ]
  },
  {
   "cell_type": "code",
   "execution_count": 36,
   "metadata": {},
   "outputs": [
    {
     "name": "stdout",
     "output_type": "stream",
     "text": [
      "-0.33843260617371657\n"
     ]
    }
   ],
   "source": [
    "from scipy.stats import pearsonr  # imported pearsonr from scipy.stats\n",
    "corr,_=pearsonr(dataframe['High'],dataframe['Volume'])\n",
    "print(corr)"
   ]
  },
  {
   "cell_type": "markdown",
   "metadata": {},
   "source": [
    "13.What is the max High per year?"
   ]
  },
  {
   "cell_type": "code",
   "execution_count": 48,
   "metadata": {},
   "outputs": [
    {
     "name": "stdout",
     "output_type": "stream",
     "text": [
      "year\n",
      "2012    77.599998\n",
      "2013    81.370003\n",
      "2014    88.089996\n",
      "2015    90.970001\n",
      "2016    75.190002\n",
      "Name: High, dtype: float64\n"
     ]
    }
   ],
   "source": [
    "def year(df):\n",
    "    return df['Date'].split(\"-\")[0]\n",
    "dataframe['year']=dataframe.apply(year,axis=1)\n",
    "\n",
    "max_year_high=dataframe.groupby('year')         # used group by and max aggregate function \n",
    "print(max_year_high['High'].max())"
   ]
  },
  {
   "cell_type": "markdown",
   "metadata": {},
   "source": [
    "What is the average Close for each Calendar Month?\n",
    "In other words, across all the years, what is the average Close price for Jan,Feb, Mar, etc... Your result will have a value for each of these months.\n"
   ]
  },
  {
   "cell_type": "code",
   "execution_count": 47,
   "metadata": {},
   "outputs": [
    {
     "name": "stdout",
     "output_type": "stream",
     "text": [
      "month\n",
      "01    71.448020\n",
      "02    71.306804\n",
      "03    71.777944\n",
      "04    72.973619\n",
      "05    72.309717\n",
      "06    72.495377\n",
      "07    74.439719\n",
      "08    73.029819\n",
      "09    72.184118\n",
      "10    71.578545\n",
      "11    72.111089\n",
      "12    72.847925\n",
      "Name: Close, dtype: float64\n"
     ]
    }
   ],
   "source": [
    "def month(df):\n",
    "    return df['Date'].split(\"-\")[1]\n",
    "\n",
    "dataframe['month']=dataframe.apply(month,axis=1)\n",
    "#print(dataframe)\n",
    "\n",
    "avg_month_close=dataframe.groupby('month')\n",
    "#print(avg_month_close)\n",
    "\n",
    "avg_month_close=avg_month_close['Close'].mean()        # used group by and mean aggregate function\n",
    "print(avg_month_close)"
   ]
  }
 ],
 "metadata": {
  "kernelspec": {
   "display_name": "Python 3",
   "language": "python",
   "name": "python3"
  },
  "language_info": {
   "codemirror_mode": {
    "name": "ipython",
    "version": 3
   },
   "file_extension": ".py",
   "mimetype": "text/x-python",
   "name": "python",
   "nbconvert_exporter": "python",
   "pygments_lexer": "ipython3",
   "version": "3.11.4"
  }
 },
 "nbformat": 4,
 "nbformat_minor": 2
}
