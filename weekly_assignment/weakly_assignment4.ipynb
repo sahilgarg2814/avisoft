{
 "cells": [
  {
   "cell_type": "code",
   "execution_count": 4,
   "metadata": {},
   "outputs": [],
   "source": [
    "import pandas as pd\n",
    "\n",
    "# creating a sample csv which will be taken as true \n",
    "dict1=dict()\n",
    "dict1={\n",
    "    'name':['sahil','kushagra','rohit','ashwani'],\n",
    "    'age':[21,22,19,24],\n",
    "    'city':['panipat','jonpur','jaipur','karnal']\n",
    "}\n",
    "dataframe1=pd.DataFrame(dict1)\n",
    "\n",
    "# conveting the dataframe back to csv\n",
    "dataframe1.to_csv('example1.csv',index=False)\n"
   ]
  },
  {
   "cell_type": "code",
   "execution_count": 5,
   "metadata": {},
   "outputs": [
    {
     "name": "stdout",
     "output_type": "stream",
     "text": [
      "       name  age     city\n",
      "0     sahil   21  panipat\n",
      "1  kushagra   22   jonpur\n",
      "2     rohit   19   jaipur\n",
      "3   ashwani   24   karnal\n"
     ]
    }
   ],
   "source": [
    "df1=pd.read_csv('example1.csv')\n",
    "print(df1)"
   ]
  },
  {
   "cell_type": "code",
   "execution_count": 6,
   "metadata": {},
   "outputs": [],
   "source": [
    "# creating a sample csv which will compared with true file\n",
    "dict2=dict()\n",
    "dict2={\n",
    "    'name':['sahil singh','kushagra','rohit','raghav'],\n",
    "    'age':[21,22,19,24],\n",
    "    'city':['bombay','jonpur','jaipur','panchkula']\n",
    "}\n",
    "dataframe2=pd.DataFrame(dict2)\n",
    "\n",
    "# conveting the dataframe back to csv\n",
    "dataframe2.to_csv('example2.csv',index=False)"
   ]
  },
  {
   "cell_type": "code",
   "execution_count": 10,
   "metadata": {},
   "outputs": [
    {
     "name": "stdout",
     "output_type": "stream",
     "text": [
      "          name  age       city\n",
      "0  sahil singh   21     bombay\n",
      "1     kushagra   22     jonpur\n",
      "2        rohit   19     jaipur\n",
      "3       raghav   24  panchkula\n",
      "city\n"
     ]
    }
   ],
   "source": [
    "df2=pd.read_csv('example2.csv')\n",
    "print(df2)"
   ]
  },
  {
   "cell_type": "code",
   "execution_count": 25,
   "metadata": {},
   "outputs": [],
   "source": [
    "# CSV comparator\n",
    "import datetime\n",
    "def csv_comparator(csv1,csv2,*columns_to_ignore):  # passing on the two csv and columns to ignore\n",
    "\n",
    "    # converting the two csv into dataframes\n",
    "    dataframe_always_true=pd.read_csv(csv1)   \n",
    "    dataframe_maybe_false=pd.read_csv(csv2)\n",
    "\n",
    "    # getting the rows and columns of the csv taken as true using shape function\n",
    "    rows,columns=dataframe_always_true.shape[0],dataframe_always_true.shape[1]\n",
    "    \n",
    "    # creating the result dataframe to store difference\n",
    "    result_dict={\n",
    "        'Actual':[],\n",
    "        'expected':[]\n",
    "    }\n",
    "    result_dataframe=pd.DataFrame(result_dict)\n",
    "     \n",
    "    # iterating over rows\n",
    "    for row in range(rows):\n",
    "\n",
    "        # iterating over columns\n",
    "        for column in range(columns):\n",
    "\n",
    "            # ignoring the columns that need to ignored\n",
    "            if dataframe_always_true.columns[column] in columns_to_ignore:\n",
    "                continue\n",
    "            # ignoring the rows and columns whcih have the same value\n",
    "            elif dataframe_always_true.iloc[row,column]==dataframe_maybe_false.iloc[row,column]:\n",
    "                continue\n",
    "            else:\n",
    "                # storing the rows and columns which have different values in temporaray dataframe\n",
    "                temp_dict={\n",
    "                    'Actual':[dataframe_always_true.iloc[row,column]],\n",
    "                    'expected':[dataframe_maybe_false.iloc[row,column]]\n",
    "                }\n",
    "                temp_dataframe=pd.DataFrame(temp_dict,index=[f\"row_{row}_column_{column}\"])\n",
    "                \n",
    "                # concating the temporaray dataframe with result dataframe\n",
    "                result_dataframe=pd.concat([result_dataframe,temp_dataframe])\n",
    "                \n",
    "                # gettin the current time at which the dataframe is created\n",
    "                current_time=datetime.datetime.now().strftime('%Y-%m-%d_%H-%M-%S')\n",
    "    \n",
    "    # converting the result  dataframe to result csv\n",
    "    result_dataframe.to_csv(f'result_csv_{current_time}.csv')\n",
    "\n",
    "csv_comparator('example1.csv','example2.csv')\n"
   ]
  },
  {
   "cell_type": "code",
   "execution_count": 1,
   "metadata": {},
   "outputs": [],
   "source": [
    "# sample text file 1\n",
    "file1=open(\"example1.txt\",'w')\n",
    "lines=[\n",
    "    \"my name is sahil garg.\\n\"\n",
    "    \"I am 21 years old.\\n\"\n",
    "    \"I am a python developer\\n\"\n",
    "]\n",
    "file1.writelines(lines)\n",
    "file1.close()"
   ]
  },
  {
   "cell_type": "code",
   "execution_count": 2,
   "metadata": {},
   "outputs": [],
   "source": [
    "# sample text file 2\n",
    "file2=open(\"example2.txt\",'w')\n",
    "lines=[\n",
    "    \"my name is Rohan garg.\\n\"\n",
    "    \"I am 22 years old.\\n\"\n",
    "    \"I am a java developer\\n\"\n",
    "]\n",
    "file2.writelines(lines)\n",
    "file2.close()"
   ]
  },
  {
   "cell_type": "code",
   "execution_count": 6,
   "metadata": {},
   "outputs": [],
   "source": [
    "import pandas as pd\n",
    "import datetime\n",
    "def text_file_comparator(file1,file2): # passing on the text files to the fuction\n",
    "    # creating the file objects \n",
    "    file1_always_true=open(file1,'r')  \n",
    "    file2_maybe_false=open(file2,'r')\n",
    "    \n",
    "    # creating a dictionary to store the differences\n",
    "    result_dict={\n",
    "        'Actual':[],\n",
    "        'expected':[]\n",
    "    }\n",
    "    \n",
    "    # indexes for the dataframe\n",
    "    index_of_dataframe=[]\n",
    "    \n",
    "\n",
    "    i=1 # pointer for the line\n",
    "    \n",
    "    # iterating over the file objects line by line\n",
    "    for line1,line2 in zip(file1_always_true,file2_maybe_false):\n",
    "        #comparing each line\n",
    "        if line1.strip()==line2.strip():\n",
    "            i+=1\n",
    "            continue\n",
    "\n",
    "        # else statement for the lines that differ\n",
    "        else:\n",
    "            words_of_line1=line1.split()\n",
    "            words_of_line2=line2.split()\n",
    "\n",
    "            \n",
    "            j=1 # pointer for each word in the line\n",
    "\n",
    "            # iterating over the lines that differ word by word\n",
    "            for word1,word2 in zip(words_of_line1,words_of_line2):\n",
    "                \n",
    "                # adding the differences in the result dict\n",
    "                if word1.lower()!=word2.lower():\n",
    "                    result_dict['Actual'].append(word1)\n",
    "                    result_dict['expected'].append(word2)\n",
    "                    index_of_dataframe.append(f\"line {i} word {j}\")\n",
    "                j+=1\n",
    "        i+=1\n",
    "    \n",
    "    # creating the dataframes from the result dictionary\n",
    "    result_dataframe=pd.DataFrame(result_dict,index=index_of_dataframe)\n",
    "\n",
    "    # gettin the current time at which the dataframe is created\n",
    "    current_time=datetime.datetime.now().strftime('%Y-%m-%d_%H-%M-%S')\n",
    "    \n",
    "    # converting the dataframe to result csv containging the differences\n",
    "    result_dataframe.to_csv(f'result_txt_{current_time}.csv')\n",
    "\n",
    "text_file_comparator('example1.txt','example2.txt')"
   ]
  }
 ],
 "metadata": {
  "kernelspec": {
   "display_name": "Python 3",
   "language": "python",
   "name": "python3"
  },
  "language_info": {
   "codemirror_mode": {
    "name": "ipython",
    "version": 3
   },
   "file_extension": ".py",
   "mimetype": "text/x-python",
   "name": "python",
   "nbconvert_exporter": "python",
   "pygments_lexer": "ipython3",
   "version": "3.11.4"
  }
 },
 "nbformat": 4,
 "nbformat_minor": 2
}
