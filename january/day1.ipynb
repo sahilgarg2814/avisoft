{
 "cells": [
  {
   "cell_type": "code",
   "execution_count": 15,
   "metadata": {},
   "outputs": [],
   "source": [
    "# 1\n",
    "# 23\n",
    "# 456\n",
    "# 7890\n",
    "\n",
    "# 1\n",
    "# 22\n",
    "# 333\n",
    "# 4444"
   ]
  },
  {
   "cell_type": "code",
   "execution_count": 16,
   "metadata": {},
   "outputs": [
    {
     "name": "stdout",
     "output_type": "stream",
     "text": [
      "1\n",
      "23\n",
      "456\n",
      "7890\n",
      "\n"
     ]
    }
   ],
   "source": [
    "# 1st pattern\n",
    "\n",
    "a=1\n",
    "for i in range(0,4):\n",
    "    for j in range(0,i+1):\n",
    "        if a<=9:\n",
    "            print(a,end=\"\")\n",
    "        else:\n",
    "            print(0)\n",
    "        a+=1\n",
    "    print()\n",
    "    "
   ]
  },
  {
   "cell_type": "code",
   "execution_count": 17,
   "metadata": {},
   "outputs": [
    {
     "name": "stdout",
     "output_type": "stream",
     "text": [
      "1\n",
      "22\n",
      "333\n",
      "4444\n"
     ]
    }
   ],
   "source": [
    "# 2nd pattern\n",
    "for i in range(1,5):\n",
    "    for j in range(0,i):\n",
    "        print(i,end=\"\")\n",
    "    print()\n"
   ]
  },
  {
   "cell_type": "code",
   "execution_count": 18,
   "metadata": {},
   "outputs": [
    {
     "data": {
      "text/plain": [
       "[2, 3, 4, 5, 1]"
      ]
     },
     "execution_count": 18,
     "metadata": {},
     "output_type": "execute_result"
    }
   ],
   "source": [
    "def rotate_array_left(arr):\n",
    "    a=arr[0]\n",
    "    for i in range(len(arr)-1):\n",
    "        arr[i]=arr[i+1]\n",
    "    arr[len(arr)-1]=a\n",
    "    return arr\n",
    "\n",
    "ar=[1,2,3,4,5]\n",
    "rotate_array_left(ar)"
   ]
  },
  {
   "cell_type": "code",
   "execution_count": 19,
   "metadata": {},
   "outputs": [
    {
     "data": {
      "text/plain": [
       "11"
      ]
     },
     "execution_count": 19,
     "metadata": {},
     "output_type": "execute_result"
    }
   ],
   "source": [
    "def maximum_subarray_sum(arr):\n",
    "    su=0\n",
    "    maxi=0\n",
    "    for i in range(len(arr)):\n",
    "        maxi=max(su,su+arr[i])\n",
    "        su+=arr[i]\n",
    "        if su < 0:\n",
    "            su=0\n",
    "    return maxi\n",
    "\n",
    "arr=[1,2,7,-4,3,2,-10,9,1]\n",
    "maximum_subarray_sum(arr)"
   ]
  },
  {
   "cell_type": "code",
   "execution_count": 25,
   "metadata": {},
   "outputs": [
    {
     "data": {
      "text/plain": [
       "'lihas'"
      ]
     },
     "execution_count": 25,
     "metadata": {},
     "output_type": "execute_result"
    }
   ],
   "source": [
    "def reverse_string(st):\n",
    "    start=0\n",
    "    end=len(st)-1\n",
    "    st=list(st)\n",
    "    while start < end:\n",
    "        st[start],st[end]=st[end],st[start]\n",
    "        start+=1\n",
    "        end-=1\n",
    "    ans=\"\"\n",
    "    for i in range(len(st)):\n",
    "        ans+=st[i]\n",
    "    return ans\n",
    "\n",
    "s=\"sahil\"\n",
    "reverse_string(s)"
   ]
  },
  {
   "cell_type": "code",
   "execution_count": 21,
   "metadata": {},
   "outputs": [
    {
     "data": {
      "text/plain": [
       "True"
      ]
     },
     "execution_count": 21,
     "metadata": {},
     "output_type": "execute_result"
    }
   ],
   "source": [
    "def check_anagram(input1,input2):\n",
    "    dict1={}\n",
    "    dict2={}\n",
    "    for i in input1:\n",
    "        if i in dict1:\n",
    "            dict1[i]+=1\n",
    "        else:\n",
    "            dict1[i]=1\n",
    "    \n",
    "    for i in input2:\n",
    "        if i in dict2:\n",
    "            dict2[i]+=1\n",
    "        else:\n",
    "            dict2[i]=1\n",
    "\n",
    "    return dict1==dict2\n",
    "\n",
    "in1,in2=\"sientl\",\"listen\"\n",
    "check_anagram(in1,in2)"
   ]
  },
  {
   "cell_type": "code",
   "execution_count": 22,
   "metadata": {},
   "outputs": [
    {
     "ename": "KeyboardInterrupt",
     "evalue": "Interrupted by user",
     "output_type": "error",
     "traceback": [
      "\u001b[1;31m---------------------------------------------------------------------------\u001b[0m",
      "\u001b[1;31mKeyboardInterrupt\u001b[0m                         Traceback (most recent call last)",
      "Cell \u001b[1;32mIn[22], line 12\u001b[0m\n\u001b[0;32m     10\u001b[0m         \u001b[38;5;28;01mif\u001b[39;00m value\u001b[38;5;241m==\u001b[39m\u001b[38;5;241m1\u001b[39m:\n\u001b[0;32m     11\u001b[0m             \u001b[38;5;28mprint\u001b[39m(key,end\u001b[38;5;241m=\u001b[39m\u001b[38;5;124m\"\u001b[39m\u001b[38;5;124m \u001b[39m\u001b[38;5;124m\"\u001b[39m)\n\u001b[1;32m---> 12\u001b[0m st\u001b[38;5;241m=\u001b[39m\u001b[38;5;28;43minput\u001b[39;49m\u001b[43m(\u001b[49m\u001b[38;5;124;43m\"\u001b[39;49m\u001b[38;5;124;43menter the string: \u001b[39;49m\u001b[38;5;124;43m\"\u001b[39;49m\u001b[43m)\u001b[49m\n\u001b[0;32m     13\u001b[0m unique_char(st)\n",
      "File \u001b[1;32m~\\AppData\\Roaming\\Python\\Python311\\site-packages\\ipykernel\\kernelbase.py:1261\u001b[0m, in \u001b[0;36mKernel.raw_input\u001b[1;34m(self, prompt)\u001b[0m\n\u001b[0;32m   1259\u001b[0m     msg \u001b[38;5;241m=\u001b[39m \u001b[38;5;124m\"\u001b[39m\u001b[38;5;124mraw_input was called, but this frontend does not support input requests.\u001b[39m\u001b[38;5;124m\"\u001b[39m\n\u001b[0;32m   1260\u001b[0m     \u001b[38;5;28;01mraise\u001b[39;00m StdinNotImplementedError(msg)\n\u001b[1;32m-> 1261\u001b[0m \u001b[38;5;28;01mreturn\u001b[39;00m \u001b[38;5;28;43mself\u001b[39;49m\u001b[38;5;241;43m.\u001b[39;49m\u001b[43m_input_request\u001b[49m\u001b[43m(\u001b[49m\n\u001b[0;32m   1262\u001b[0m \u001b[43m    \u001b[49m\u001b[38;5;28;43mstr\u001b[39;49m\u001b[43m(\u001b[49m\u001b[43mprompt\u001b[49m\u001b[43m)\u001b[49m\u001b[43m,\u001b[49m\n\u001b[0;32m   1263\u001b[0m \u001b[43m    \u001b[49m\u001b[38;5;28;43mself\u001b[39;49m\u001b[38;5;241;43m.\u001b[39;49m\u001b[43m_parent_ident\u001b[49m\u001b[43m[\u001b[49m\u001b[38;5;124;43m\"\u001b[39;49m\u001b[38;5;124;43mshell\u001b[39;49m\u001b[38;5;124;43m\"\u001b[39;49m\u001b[43m]\u001b[49m\u001b[43m,\u001b[49m\n\u001b[0;32m   1264\u001b[0m \u001b[43m    \u001b[49m\u001b[38;5;28;43mself\u001b[39;49m\u001b[38;5;241;43m.\u001b[39;49m\u001b[43mget_parent\u001b[49m\u001b[43m(\u001b[49m\u001b[38;5;124;43m\"\u001b[39;49m\u001b[38;5;124;43mshell\u001b[39;49m\u001b[38;5;124;43m\"\u001b[39;49m\u001b[43m)\u001b[49m\u001b[43m,\u001b[49m\n\u001b[0;32m   1265\u001b[0m \u001b[43m    \u001b[49m\u001b[43mpassword\u001b[49m\u001b[38;5;241;43m=\u001b[39;49m\u001b[38;5;28;43;01mFalse\u001b[39;49;00m\u001b[43m,\u001b[49m\n\u001b[0;32m   1266\u001b[0m \u001b[43m\u001b[49m\u001b[43m)\u001b[49m\n",
      "File \u001b[1;32m~\\AppData\\Roaming\\Python\\Python311\\site-packages\\ipykernel\\kernelbase.py:1304\u001b[0m, in \u001b[0;36mKernel._input_request\u001b[1;34m(self, prompt, ident, parent, password)\u001b[0m\n\u001b[0;32m   1301\u001b[0m \u001b[38;5;28;01mexcept\u001b[39;00m \u001b[38;5;167;01mKeyboardInterrupt\u001b[39;00m:\n\u001b[0;32m   1302\u001b[0m     \u001b[38;5;66;03m# re-raise KeyboardInterrupt, to truncate traceback\u001b[39;00m\n\u001b[0;32m   1303\u001b[0m     msg \u001b[38;5;241m=\u001b[39m \u001b[38;5;124m\"\u001b[39m\u001b[38;5;124mInterrupted by user\u001b[39m\u001b[38;5;124m\"\u001b[39m\n\u001b[1;32m-> 1304\u001b[0m     \u001b[38;5;28;01mraise\u001b[39;00m \u001b[38;5;167;01mKeyboardInterrupt\u001b[39;00m(msg) \u001b[38;5;28;01mfrom\u001b[39;00m \u001b[38;5;28;01mNone\u001b[39;00m\n\u001b[0;32m   1305\u001b[0m \u001b[38;5;28;01mexcept\u001b[39;00m \u001b[38;5;167;01mException\u001b[39;00m:\n\u001b[0;32m   1306\u001b[0m     \u001b[38;5;28mself\u001b[39m\u001b[38;5;241m.\u001b[39mlog\u001b[38;5;241m.\u001b[39mwarning(\u001b[38;5;124m\"\u001b[39m\u001b[38;5;124mInvalid Message:\u001b[39m\u001b[38;5;124m\"\u001b[39m, exc_info\u001b[38;5;241m=\u001b[39m\u001b[38;5;28;01mTrue\u001b[39;00m)\n",
      "\u001b[1;31mKeyboardInterrupt\u001b[0m: Interrupted by user"
     ]
    }
   ],
   "source": [
    "def unique_char(s):\n",
    "    dict1={}\n",
    "    for i in s:\n",
    "        if i in dict1:\n",
    "            dict1[i]+=1\n",
    "        else:\n",
    "            dict1[i]=1\n",
    "    \n",
    "    for key,value in dict1.items():\n",
    "        if value==1:\n",
    "            print(key,end=\" \")\n",
    "st=input(\"enter the string: \")\n",
    "unique_char(st)\n"
   ]
  },
  {
   "cell_type": "code",
   "execution_count": null,
   "metadata": {},
   "outputs": [
    {
     "name": "stdout",
     "output_type": "stream",
     "text": [
      "0.0\n",
      "1.1111111111111112\n",
      "2.2222222222222223\n",
      "3.3333333333333335\n",
      "4.444444444444445\n",
      "5.555555555555555\n",
      "6.666666666666667\n",
      "7.777777777777779\n",
      "8.88888888888889\n",
      "10.0\n",
      "11.11111111111111\n",
      "12.222222222222223\n"
     ]
    }
   ],
   "source": [
    "def fahrenheit(f1,f2,w):\n",
    "    for i in range(f1,f2,w):\n",
    "        mid=i-32\n",
    "        print(mid * (5/9))\n",
    "    \n",
    "f1=int(input(\"enter the first value: \"))\n",
    "f2=int(input(\"Enter the last value: \"))\n",
    "w=int(input(\"Enter the gap: \"))\n",
    "\n",
    "fahrenheit(f1,f2,w)"
   ]
  },
  {
   "cell_type": "code",
   "execution_count": null,
   "metadata": {},
   "outputs": [
    {
     "name": "stdout",
     "output_type": "stream",
     "text": [
      "even sum:  12\n",
      "odd_sum:  9\n"
     ]
    }
   ],
   "source": [
    "def even_sum_odd_dum(a):\n",
    "    even_sum=0\n",
    "    odd_sum=0\n",
    "    while a>0:\n",
    "        rem=a%10\n",
    "        a=a//10\n",
    "        if rem%2==0:\n",
    "            even_sum+=rem\n",
    "        else:\n",
    "            odd_sum+=rem\n",
    "    \n",
    "    print(\"even sum: \",even_sum)\n",
    "    print(\"odd_sum: \",odd_sum)\n",
    "\n",
    "a=int(input(\"enter the number: \"))\n",
    "even_sum_odd_dum(a)"
   ]
  },
  {
   "cell_type": "code",
   "execution_count": null,
   "metadata": {},
   "outputs": [
    {
     "data": {
      "text/plain": [
       "[2, 4]"
      ]
     },
     "execution_count": 2,
     "metadata": {},
     "output_type": "execute_result"
    }
   ],
   "source": [
    "def print_factor(num):\n",
    "    lst=[]\n",
    "    for i in range(2,(num//2)+1):\n",
    "        if num%i==0:\n",
    "            lst.append(i)\n",
    "    \n",
    "    if len(lst)==0:\n",
    "        if i in lst:\n",
    "            return -1\n",
    "    return lst\n",
    "\n",
    "a=int(input(\"enter the number: \"))\n",
    "print_factor(a)    \n"
   ]
  },
  {
   "cell_type": "code",
   "execution_count": null,
   "metadata": {},
   "outputs": [
    {
     "data": {
      "text/plain": [
       "49"
      ]
     },
     "execution_count": 3,
     "metadata": {},
     "output_type": "execute_result"
    }
   ],
   "source": [
    "def print_power_of(x,n):\n",
    "    if n==0:\n",
    "        return 1\n",
    "    else:\n",
    "        return x**n\n",
    "\n",
    "x=int(input(\"enter the value of x: \"))\n",
    "n=int(input(\"Enter the value of n: \"))\n",
    "print_power_of(x,n)"
   ]
  },
  {
   "cell_type": "code",
   "execution_count": null,
   "metadata": {},
   "outputs": [
    {
     "data": {
      "text/plain": [
       "401"
      ]
     },
     "execution_count": 23,
     "metadata": {},
     "output_type": "execute_result"
    }
   ],
   "source": [
    "def reverse_number(num):\n",
    "    rev=0\n",
    "    while num>0:\n",
    "        rem=num%10\n",
    "        num=num//10\n",
    "        rev=rev*10+rem\n",
    "    return rev\n",
    "\n",
    "n=int(input(\"Enter the number: \"))\n",
    "reverse_number(n)"
   ]
  },
  {
   "cell_type": "code",
   "execution_count": null,
   "metadata": {},
   "outputs": [
    {
     "name": "stdout",
     "output_type": "stream",
     "text": [
      "A\n",
      "BC\n",
      "CDE\n",
      "DEFG\n"
     ]
    }
   ],
   "source": [
    "n=int(input(\"Enter the number of rows: \"))\n",
    "\n",
    "ch='A'\n",
    "for i in range(n):\n",
    "    d=ch\n",
    "    for j in range(i+1): \n",
    "        print(d,end=\"\")\n",
    "        d=chr(ord(d)+1)\n",
    "    ch=chr(ord(ch)+1)\n",
    "    print()"
   ]
  },
  {
   "cell_type": "code",
   "execution_count": null,
   "metadata": {},
   "outputs": [
    {
     "name": "stdout",
     "output_type": "stream",
     "text": [
      "1\n",
      "21\n",
      "321\n",
      "4321\n"
     ]
    }
   ],
   "source": [
    "n=int(input(\"Enter the number of rows: \"))\n",
    "\n",
    "\n",
    "for i in range(1,n+1):\n",
    "    d=ch\n",
    "    for j in range(i,0,-1):\n",
    "        print(j,end=\"\")\n",
    "    print()"
   ]
  },
  {
   "cell_type": "code",
   "execution_count": null,
   "metadata": {},
   "outputs": [
    {
     "name": "stdout",
     "output_type": "stream",
     "text": [
      "A\n",
      "BB\n",
      "CCC\n"
     ]
    }
   ],
   "source": [
    "n=int(input(\"Enter the number of rows: \"))\n",
    "\n",
    "ch='A'\n",
    "for i in range(n):\n",
    "    for j in range(i+1):\n",
    "        print(ch,end=\"\")\n",
    "    ch=chr(ord(ch)+1)\n",
    "    print()"
   ]
  },
  {
   "cell_type": "code",
   "execution_count": null,
   "metadata": {},
   "outputs": [
    {
     "name": "stdout",
     "output_type": "stream",
     "text": [
      "E\n",
      "DE\n",
      "CDE\n",
      "BCDE\n",
      "ABCDE\n"
     ]
    }
   ],
   "source": [
    "ch='E'\n",
    "for i in range(5):\n",
    "    d=chr(ord(ch)-i)\n",
    "    for j in range(i+1):\n",
    "        print(d,end=\"\")\n",
    "        d=chr(ord(d)+1)\n",
    "    print()"
   ]
  },
  {
   "cell_type": "code",
   "execution_count": null,
   "metadata": {},
   "outputs": [
    {
     "name": "stdout",
     "output_type": "stream",
     "text": [
      "***\n",
      " ***\n",
      "  ***\n"
     ]
    }
   ],
   "source": [
    "n=int(input(\"Enter the number of rows: \"))\n",
    "\n",
    "\n",
    "for i in range(n):\n",
    "    for j in range(i):\n",
    "        print(\" \",end=\"\")\n",
    "    for k in range(n):\n",
    "        print(\"*\",end=\"\")\n",
    "    print()"
   ]
  },
  {
   "cell_type": "code",
   "execution_count": null,
   "metadata": {},
   "outputs": [
    {
     "name": "stdout",
     "output_type": "stream",
     "text": [
      "___1\n",
      "__12\n",
      "_123\n"
     ]
    }
   ],
   "source": [
    "n=int(input(\"Enter the number of rows: \"))\n",
    "\n",
    "for i in range(n):\n",
    "    a=1\n",
    "    for j in range(n-i):\n",
    "        print(\"_\",end=\"\")\n",
    "    for k in range(i+1):\n",
    "        print(a,end=\"\")\n",
    "        a+=1\n",
    "    print()\n"
   ]
  },
  {
   "cell_type": "code",
   "execution_count": null,
   "metadata": {},
   "outputs": [
    {
     "name": "stdout",
     "output_type": "stream",
     "text": [
      "1357\n",
      "3571\n",
      "5713\n",
      "7135\n"
     ]
    }
   ],
   "source": [
    "from collections import deque\n",
    "d=deque()\n",
    "a=1\n",
    "for i in range(4):\n",
    "    d.append(a)\n",
    "    a+=2\n",
    "\n",
    "for i in range(4):\n",
    "    for j in range(len(d)):\n",
    "        print(d[j],end=\"\")\n",
    "    d.append(d.popleft())\n",
    "    print()"
   ]
  },
  {
   "cell_type": "code",
   "execution_count": null,
   "metadata": {},
   "outputs": [
    {
     "name": "stdout",
     "output_type": "stream",
     "text": [
      "1357\n",
      "3571\n",
      "5713\n",
      "7135\n"
     ]
    }
   ],
   "source": [
    "d=list()\n",
    "a=1\n",
    "for i in range(4):\n",
    "    d.append(a)\n",
    "    a+=2\n",
    "\n",
    "\n",
    "for i in range(4):\n",
    "    for j in range(i,4):\n",
    "        print(d[j],end=\"\")\n",
    "\n",
    "    for k in range(0,i):\n",
    "        print(d[k],end=\"\")\n",
    "    print()\n"
   ]
  },
  {
   "cell_type": "markdown",
   "metadata": {},
   "source": [
    "# homework"
   ]
  },
  {
   "cell_type": "code",
   "execution_count": 6,
   "metadata": {},
   "outputs": [
    {
     "data": {
      "text/plain": [
       "'1010'"
      ]
     },
     "execution_count": 6,
     "metadata": {},
     "output_type": "execute_result"
    }
   ],
   "source": [
    "x=float(input(\"enter the number: \"))\n",
    "\n",
    "def decimal_to_binary(x):\n",
    "    x=int(x)\n",
    "    binary_list=[]\n",
    "    while x!=0:\n",
    "        rem=x%2\n",
    "        binary_list.append(rem)\n",
    "        x=x//2\n",
    "    binary_list=binary_list[::-1]\n",
    "    st1=\"\"\n",
    "    for i in binary_list:\n",
    "        i=str(i)\n",
    "        st1+=i\n",
    "    return st1\n",
    "\n",
    "decimal_to_binary(x)"
   ]
  },
  {
   "cell_type": "code",
   "execution_count": 8,
   "metadata": {},
   "outputs": [
    {
     "name": "stdout",
     "output_type": "stream",
     "text": [
      "2\n",
      "3\n",
      "4\n",
      "5\n",
      "7\n",
      "11\n",
      "13\n",
      "17\n",
      "19\n",
      "23\n",
      "29\n",
      "31\n",
      "37\n",
      "41\n",
      "43\n",
      "47\n"
     ]
    }
   ],
   "source": [
    "n=int(input(\"enter the number: \"))\n",
    "def prime_number(n):\n",
    "    for num in range(2,n+1):\n",
    "        flag=True\n",
    "        for i in range(2,num//2):\n",
    "            if num%i==0:\n",
    "                flag=False\n",
    "                break\n",
    "        if flag:\n",
    "            print(num)\n",
    "\n",
    "prime_number(n)"
   ]
  },
  {
   "cell_type": "code",
   "execution_count": 29,
   "metadata": {},
   "outputs": [
    {
     "data": {
      "text/plain": [
       "True"
      ]
     },
     "execution_count": 29,
     "metadata": {},
     "output_type": "execute_result"
    }
   ],
   "source": [
    "n=int(input(\"Enter the number: \"))\n",
    "def check_palindrome(x):\n",
    "    a=x\n",
    "    rev=0\n",
    "    while a>0:\n",
    "        rem=a%10\n",
    "        a=a//10\n",
    "        rev=rev*10+rem\n",
    "    return rev==x\n",
    "\n",
    "\n",
    "check_palindrome(n)"
   ]
  },
  {
   "cell_type": "code",
   "execution_count": 42,
   "metadata": {},
   "outputs": [
    {
     "name": "stdout",
     "output_type": "stream",
     "text": [
      "5432*\n",
      "543*1\n",
      "54*21\n",
      "5*321\n",
      "*4321\n"
     ]
    }
   ],
   "source": [
    "n=int(input(\"enter the number: \"))\n",
    "\n",
    "\n",
    "\n",
    "for i in range(1,n+1):\n",
    "    for j in range(n,0,-1):\n",
    "        if i==j:\n",
    "            print(\"*\",end=\"\")\n",
    "        else:\n",
    "            print(j,end=\"\")\n",
    "    print()\n",
    "\n"
   ]
  },
  {
   "cell_type": "code",
   "execution_count": 38,
   "metadata": {},
   "outputs": [
    {
     "name": "stdout",
     "output_type": "stream",
     "text": [
      "1=1\n",
      "1+2=3\n",
      "1+2+3=6\n"
     ]
    }
   ],
   "source": [
    "x=int(input(\"enter the number: \"))\n",
    "sum=0\n",
    "for i in range(1,x+1):\n",
    "    for j in range(1,i+1):\n",
    "        if j==i:\n",
    "            print(str(j),end=\"\")\n",
    "        else:\n",
    "            print(str(j)+\"+\",end=\"\")\n",
    "    print(\"=\",end=\"\")\n",
    "    sum+=i\n",
    "    print(str(sum),end=\"\")\n",
    "    print()\n"
   ]
  },
  {
   "cell_type": "code",
   "execution_count": 1,
   "metadata": {},
   "outputs": [
    {
     "name": "stdout",
     "output_type": "stream",
     "text": [
      "    1\n",
      "   232\n",
      "  34543\n",
      " 4567654\n",
      "567898765\n"
     ]
    }
   ],
   "source": [
    "n=int(input(\"enter the number: \"))\n",
    "space=n-1\n",
    "num=1\n",
    "col=1\n",
    "for row in range(0,n):\n",
    "    temp=num\n",
    "    for spaces in range(space):\n",
    "        print(\" \",end=\"\")\n",
    "    for col in range(row+1):\n",
    "        print(num,end=\"\")\n",
    "        num=num+1\n",
    "    num-=2\n",
    "    for next in range(row):\n",
    "        print(num,end=\"\")\n",
    "        num-=1\n",
    "    num=temp+1\n",
    "    print()\n",
    "    space-=1"
   ]
  },
  {
   "cell_type": "code",
   "execution_count": 10,
   "metadata": {},
   "outputs": [
    {
     "name": "stdout",
     "output_type": "stream",
     "text": [
      "   *\n",
      "  ***\n",
      " *****\n",
      "*******\n",
      " *****\n",
      "  ***\n",
      "   *\n"
     ]
    }
   ],
   "source": [
    "n=int(input(\"enter the number of rows: \"))\n",
    "n1=n//2+1\n",
    "n2=n-n1\n",
    "for i in range(1,n1+1):\n",
    "    for j in range(1,n1-i+1):\n",
    "        print(\" \",end=\"\")\n",
    "    for j in range(1,2*i):\n",
    "        print(\"*\",end=\"\")\n",
    "    print()\n",
    "\n",
    "for i in range(1,n2+1):\n",
    "    for j in range(1,i+1):\n",
    "        print(\" \",end=\"\")\n",
    "    for j in range(1,2*(n2-i+1)):\n",
    "        print(\"*\",end=\"\")\n",
    "    print()"
   ]
  }
 ],
 "metadata": {
  "kernelspec": {
   "display_name": "Python 3",
   "language": "python",
   "name": "python3"
  },
  "language_info": {
   "codemirror_mode": {
    "name": "ipython",
    "version": 3
   },
   "file_extension": ".py",
   "mimetype": "text/x-python",
   "name": "python",
   "nbconvert_exporter": "python",
   "pygments_lexer": "ipython3",
   "version": "3.11.4"
  }
 },
 "nbformat": 4,
 "nbformat_minor": 2
}
