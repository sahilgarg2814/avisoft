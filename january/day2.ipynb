{
 "cells": [
  {
   "cell_type": "code",
   "execution_count": 4,
   "metadata": {},
   "outputs": [
    {
     "data": {
      "text/plain": [
       "15"
      ]
     },
     "execution_count": 4,
     "metadata": {},
     "output_type": "execute_result"
    }
   ],
   "source": [
    "n=int(input(\"enter the size of the array: \"))\n",
    "lst=[]\n",
    "def sum_of_array(n):\n",
    "    sum=0\n",
    "    for i in range(n):\n",
    "        ele=int(input())\n",
    "        lst.append(ele)\n",
    "        sum+=ele\n",
    "    return sum\n",
    "\n",
    "sum_of_array(n)"
   ]
  },
  {
   "cell_type": "code",
   "execution_count": 8,
   "metadata": {},
   "outputs": [
    {
     "data": {
      "text/plain": [
       "[1, 2, 3, 4, 6, 5]"
      ]
     },
     "execution_count": 8,
     "metadata": {},
     "output_type": "execute_result"
    }
   ],
   "source": [
    "n=int(input(\"enter the size of the array: \"))\n",
    "pos=int(input(\"enter the position after which we have to reverse: \"))\n",
    "lst=[]\n",
    "def reverse_after_pos(n,pos):\n",
    "    for i in range(n):\n",
    "        ele=int(input())\n",
    "        lst.append(ele)\n",
    "    start=pos+1\n",
    "    end=n-1\n",
    "    while start<end:\n",
    "        lst[start],lst[end]=lst[end],lst[start]\n",
    "        start+=1\n",
    "        end-=1\n",
    "    return lst\n",
    "reverse_after_pos(n,pos)"
   ]
  },
  {
   "cell_type": "code",
   "execution_count": 2,
   "metadata": {},
   "outputs": [
    {
     "name": "stdout",
     "output_type": "stream",
     "text": [
      "2 "
     ]
    }
   ],
   "source": [
    "n=int(input(\"enter the size of the array: \"))\n",
    "lst=[]\n",
    "def appear_only_once(n):\n",
    "    dict1={}\n",
    "    for i in range(n):\n",
    "        ele=int(input())\n",
    "        lst.append(ele)\n",
    "    for i in range(n):\n",
    "        if lst[i] in dict1:\n",
    "            dict1[lst[i]]+=1\n",
    "        else:\n",
    "            dict1[lst[i]]=1\n",
    "    for key,value in dict1.items():\n",
    "        if value==1:\n",
    "            print(key,end=\" \")\n",
    "\n",
    "appear_only_once(n)"
   ]
  },
  {
   "cell_type": "code",
   "execution_count": 1,
   "metadata": {},
   "outputs": [
    {
     "data": {
      "text/plain": [
       "2"
      ]
     },
     "execution_count": 1,
     "metadata": {},
     "output_type": "execute_result"
    }
   ],
   "source": [
    "import random\n",
    "n=int(input(\"enter the floor val of actual size of the array: \"))\n",
    "lst=[]\n",
    "def appear_only_once(n):\n",
    "    dict1={}\n",
    "    for i in range(n-1):\n",
    "        ele=int(input())\n",
    "        lst.append(ele)\n",
    "        lst.append(ele)\n",
    "    ele=int(input())\n",
    "    lst.append(ele)\n",
    "    random.shuffle(lst)\n",
    "    for i in range(len(lst)):\n",
    "        if lst[i] in dict1:\n",
    "            dict1[lst[i]]+=1\n",
    "        else:\n",
    "            dict1[lst[i]]=1\n",
    "    for key,value in dict1.items():\n",
    "        if value==1:\n",
    "            print(key,end=\" \")\n",
    "\n",
    "def appear_only_once2(n):\n",
    "    for i in range(n-1):\n",
    "        ele=int(input())\n",
    "        lst.append(ele)\n",
    "        lst.append(ele)\n",
    "    ele=int(input())\n",
    "    lst.append(ele)\n",
    "    random.shuffle(lst)\n",
    "    ans=0\n",
    "    for i in range(len(lst)):\n",
    "        ans^=lst[i]\n",
    "    return ans\n",
    "\n",
    "appear_only_once2(n)"
   ]
  },
  {
   "cell_type": "code",
   "execution_count": 2,
   "metadata": {},
   "outputs": [
    {
     "data": {
      "text/plain": [
       "24"
      ]
     },
     "execution_count": 2,
     "metadata": {},
     "output_type": "execute_result"
    }
   ],
   "source": [
    "n=int(input(\"enter the size of the array: \"))\n",
    "q=int(input(\"enter the query \"))\n",
    "lst=[]\n",
    "def sum_and_product(n,q):\n",
    "    for i in range(n):\n",
    "        ele=int(input())\n",
    "        lst.append(ele)\n",
    "    \n",
    "    if q==1:\n",
    "        return sum(lst)\n",
    "    elif q==2:\n",
    "        prod=1\n",
    "        for i in range(len(lst)):\n",
    "            prod*=lst[i]\n",
    "        return prod % (10**9+7)\n",
    "\n",
    "sum_and_product(n,q)"
   ]
  },
  {
   "cell_type": "code",
   "execution_count": 7,
   "metadata": {},
   "outputs": [
    {
     "data": {
      "text/plain": [
       "(5, 5, 2)"
      ]
     },
     "execution_count": 7,
     "metadata": {},
     "output_type": "execute_result"
    }
   ],
   "source": [
    "n=int(input(\"enter the size of the array: \"))\n",
    "k=int(input(\"enter the sum: \"))\n",
    "lst=[]\n",
    "def three_sum(lst,n,k):\n",
    "    for i in range(n):\n",
    "        ele=int(input())\n",
    "        lst.append(ele)\n",
    "    \n",
    "    s=set(lst)\n",
    "    for i in range(n-2):\n",
    "        curr_sum=k-lst[i]\n",
    "        for j in range(i+1,n):\n",
    "            required_sum=curr_sum-lst[j]\n",
    "            if required_sum in s:\n",
    "                return lst[i],lst[j],required_sum\n",
    "        s.add(lst[j])\n",
    "\n",
    "three_sum(lst,n,k)"
   ]
  },
  {
   "cell_type": "code",
   "execution_count": 12,
   "metadata": {},
   "outputs": [
    {
     "data": {
      "text/plain": [
       "2"
      ]
     },
     "execution_count": 12,
     "metadata": {},
     "output_type": "execute_result"
    }
   ],
   "source": [
    "n=int(input(\"enter the size of the array: \"))\n",
    "lst=[]\n",
    "def remove_duplicate(lst,n):\n",
    "    for i in range(n):\n",
    "        ele=int(input())\n",
    "        lst.append(ele)\n",
    "    lst.sort()\n",
    "    start=0\n",
    "    end=0\n",
    "    while end < n-1:\n",
    "        if lst[end]!=lst[end+1]:\n",
    "            lst[start]=lst[end]\n",
    "            start+=1\n",
    "        end+=1\n",
    "    lst[start]=lst[n-1]\n",
    "    return start\n",
    "\n",
    "remove_duplicate(lst,n)"
   ]
  },
  {
   "cell_type": "code",
   "execution_count": 4,
   "metadata": {},
   "outputs": [
    {
     "data": {
      "text/plain": [
       "(5, 2)"
      ]
     },
     "execution_count": 4,
     "metadata": {},
     "output_type": "execute_result"
    }
   ],
   "source": [
    "n=int(input(\"enter the size of the array: \"))\n",
    "lst=[]\n",
    "def repeat_and_duplicate(lst,n):\n",
    "    for i in range(n):\n",
    "        ele=int(input())\n",
    "        lst.append(ele)\n",
    "    dict1={}\n",
    "    duplicate=0\n",
    "    ans=0\n",
    "    for i in lst:\n",
    "        if i in dict1:\n",
    "            duplicate=i\n",
    "        else:\n",
    "            dict1[i]=1\n",
    "    for i in range(1,n+1):\n",
    "        ans^=i\n",
    "    for i in lst:\n",
    "        ans^=i\n",
    "    return duplicate,ans^duplicate\n",
    "\n",
    "repeat_and_duplicate(lst,n)    "
   ]
  },
  {
   "cell_type": "code",
   "execution_count": 2,
   "metadata": {},
   "outputs": [
    {
     "data": {
      "text/plain": [
       "[6, 3, 2]"
      ]
     },
     "execution_count": 2,
     "metadata": {},
     "output_type": "execute_result"
    }
   ],
   "source": [
    "n=int(input(\"enter the size of the array: \"))\n",
    "lst=[]\n",
    "def product_arr(lst,n):\n",
    "    ans=[]\n",
    "    for i in range(n):\n",
    "        ele=int(input())\n",
    "        lst.append(ele)\n",
    "    prod=1\n",
    "    for i in lst:\n",
    "        prod*=i\n",
    "    for i in lst:\n",
    "        a=prod//i\n",
    "        ans.append(a)\n",
    "    return ans\n",
    "\n",
    "product_arr(lst,n)\n",
    "    "
   ]
  },
  {
   "cell_type": "code",
   "execution_count": 1,
   "metadata": {},
   "outputs": [
    {
     "data": {
      "text/plain": [
       "[6, 9]"
      ]
     },
     "execution_count": 1,
     "metadata": {},
     "output_type": "execute_result"
    }
   ],
   "source": [
    "n=int(input(\"enter the number: \"))\n",
    "lst=[]\n",
    "def subarray_sum(lst,n):\n",
    "    ans=[]\n",
    "    a=int(input(\"enter the size of th array: \"))\n",
    "    for i in range(a):\n",
    "        ele=int(input())\n",
    "        lst.append(ele)\n",
    "    while n > 0:\n",
    "        l=int(input(\"enter the size of the left range: \"))\n",
    "        r=int(input(\"enter the size of the right range: \"))\n",
    "        for i in range(r//a):\n",
    "            lst+=lst\n",
    "        sum=0\n",
    "        for i in range(l-1,r):\n",
    "            sum+=lst[i]\n",
    "        n-=1\n",
    "        ans.append(sum)\n",
    "    return ans\n",
    "\n",
    "def subarray_sum1(lst,n):\n",
    "    ans=[]\n",
    "    a=int(input(\"enter the size of th array: \"))\n",
    "    for i in range(a):\n",
    "        ele=int(input())\n",
    "        lst.append(ele)\n",
    "    while n > 0:\n",
    "        l=int(input(\"enter the size of the left range: \"))\n",
    "        r=int(input(\"enter the size of the right range: \"))\n",
    "        start=l-1\n",
    "        sum=0\n",
    "        while l<=r:\n",
    "            sum+=lst[start%n]\n",
    "            start+=1\n",
    "            l+=1\n",
    "        n-=1\n",
    "        ans.append(sum)\n",
    "    return ans\n",
    "\n",
    "subarray_sum(lst,n)"
   ]
  },
  {
   "cell_type": "code",
   "execution_count": 2,
   "metadata": {},
   "outputs": [
    {
     "data": {
      "text/plain": [
       "[1, 2, 4.0, 0]"
      ]
     },
     "execution_count": 2,
     "metadata": {},
     "output_type": "execute_result"
    }
   ],
   "source": [
    "n=int(input(\"Enter the size of the first array: \"))\n",
    "m=int(input(\"Enter the size of the second array: \"))\n",
    "lst1=[]\n",
    "lst2=[]\n",
    "def sum_of_array(lst1,lst2,n,m):\n",
    "    ans=[]\n",
    "    for i in range(n):\n",
    "        ele=int(input())\n",
    "        lst1.append(ele)\n",
    "    for i in range(m):\n",
    "        ele=int(input())\n",
    "        lst2.append(ele)\n",
    "    \n",
    "    if n==0:\n",
    "        return lst2\n",
    "    if m==0:\n",
    "        return lst1\n",
    "    \n",
    "    carry=0\n",
    "    while lst1 or lst2:\n",
    "        a=0\n",
    "        if lst1 and lst2:\n",
    "            a=carry+lst1.pop()+lst2.pop()\n",
    "            if a>=10:\n",
    "                carry=a/10\n",
    "                a=a%10\n",
    "            else:\n",
    "                carry=0\n",
    "            ans.append(int(a))\n",
    "        elif lst1:\n",
    "            a=carry+lst1.pop()\n",
    "            if a>=10:\n",
    "                carry=a/10\n",
    "                a=a%10\n",
    "            else:\n",
    "                carry=0\n",
    "            ans.append(int(a))\n",
    "        elif lst2:\n",
    "            a=carry+lst2.pop()\n",
    "            if a>=10:\n",
    "                carry=a/10\n",
    "                a=a%10\n",
    "            else:\n",
    "                carry=0\n",
    "            ans.append(int(a))\n",
    "    ans.reverse()\n",
    "    return ans\n",
    "\n",
    "sum_of_array(lst1,lst2,n,m)\n"
   ]
  },
  {
   "cell_type": "code",
   "execution_count": 1,
   "metadata": {},
   "outputs": [
    {
     "name": "stdout",
     "output_type": "stream",
     "text": [
      "[4, 5]"
     ]
    }
   ],
   "source": [
    "n=int(input(\"Enter the no. of iterations: \"))\n",
    "\n",
    "def k_largest(n):\n",
    "    while n>0:\n",
    "        lst=[]\n",
    "        a=int(input(\"Enter the size of the array: \"))\n",
    "        k=int(input(\"enter the no of largest needed\"))\n",
    "        for i in range(a):\n",
    "            ele=int(input())\n",
    "            lst.append(ele)\n",
    "        \n",
    "        lst.sort()\n",
    "        print(lst[a-k:],end=\"\")\n",
    "        n-=1\n",
    "\n",
    "k_largest(n)\n"
   ]
  },
  {
   "cell_type": "code",
   "execution_count": 5,
   "metadata": {},
   "outputs": [
    {
     "data": {
      "text/plain": [
       "[1, 2, 6, 9, 12, 23, 34, 90, 2000]"
      ]
     },
     "execution_count": 5,
     "metadata": {},
     "output_type": "execute_result"
    }
   ],
   "source": [
    "# merge k sorted array\n",
    "import heapq\n",
    "n=int(input(\"enter the size of the matrix: \"))\n",
    "arr=[]\n",
    "for i in range(n):\n",
    "    a=int(input(\"Enter the size of the array: \"))\n",
    "    b=[]\n",
    "    for j in range(a):\n",
    "        ele=int(input())\n",
    "        b.append(ele)\n",
    "    arr.append(b)\n",
    "\n",
    "def mergeK(arr):\n",
    "    res=[]\n",
    "    h=[]\n",
    "\n",
    "    for i in range(len(arr)):\n",
    "        heapq.heappush(h,(arr[i][0],i,0))\n",
    "    \n",
    "    while h:\n",
    "        val,rn,cn=heapq.heappop(h)  # rn= row number and cn = row number\n",
    "        res.append(val)\n",
    "        if cn+1<len(arr[rn]):\n",
    "            heapq.heappush(h,(arr[rn][cn+1],rn,cn+1))\n",
    "    return res\n",
    "\n",
    "mergeK(arr)"
   ]
  },
  {
   "cell_type": "code",
   "execution_count": 3,
   "metadata": {},
   "outputs": [
    {
     "data": {
      "text/plain": [
       "1"
      ]
     },
     "execution_count": 3,
     "metadata": {},
     "output_type": "execute_result"
    }
   ],
   "source": [
    "#longest consecutive sequence\n",
    "n=int(input(\"enter the size of the array: \"))\n",
    "lst=[]\n",
    "for i in range(n):\n",
    "    ele=int(input(\"enter the number: \"))\n",
    "    lst.append(ele)\n",
    "\n",
    "def longest_common_subsequence(lst):\n",
    "    lst.sort()\n",
    "    start=0\n",
    "    end=1\n",
    "    a,b=0,0\n",
    "    maxi=0\n",
    "    while end<n:\n",
    "        if abs(lst[end-1]-lst[end])==1 or abs(lst[end-1]-lst[end])==0:\n",
    "            if end-start+1>maxi:\n",
    "                maxi=end-start+1\n",
    "                a=start\n",
    "                b=end\n",
    "        else:\n",
    "            start=end\n",
    "        end+=1\n",
    "    return len(set(lst[a:b+1]))\n",
    "\n",
    "longest_common_subsequence(lst)\n",
    "\n"
   ]
  },
  {
   "cell_type": "code",
   "execution_count": 3,
   "metadata": {},
   "outputs": [
    {
     "data": {
      "text/plain": [
       "[1, 2, 3, 4, 6]"
      ]
     },
     "execution_count": 3,
     "metadata": {},
     "output_type": "execute_result"
    }
   ],
   "source": [
    "# selection sort:\n",
    "n=int(input(\"enter the size of the array: \"))\n",
    "lst=[]\n",
    "def selection_sort(lst,n):\n",
    "    for i in range(n):\n",
    "        ele=int(input(\"enter the number: \"))\n",
    "        lst.append(ele)\n",
    "    \n",
    "    for i in range(n-1):\n",
    "        min_index=i\n",
    "        for j in range(i+1,n):\n",
    "            if lst[j]<lst[min_index]:\n",
    "                min_index=j\n",
    "        lst[min_index],lst[i]=lst[i],lst[min_index]\n",
    "    return lst\n",
    "selection_sort(lst,n)"
   ]
  },
  {
   "cell_type": "code",
   "execution_count": 5,
   "metadata": {},
   "outputs": [
    {
     "name": "stdout",
     "output_type": "stream",
     "text": [
      "[1, 2, 3, 4, 5]\n"
     ]
    }
   ],
   "source": [
    "# merge sort\n",
    "n=int(input(\"enter the size of the array: \"))\n",
    "lst=[]\n",
    "for i in range(n):\n",
    "    ele=int(input(\"enter the number: \"))\n",
    "    lst.append(ele)\n",
    "\n",
    "def merge_sort(lst):\n",
    "    if len(lst) > 1:\n",
    "        mid=len(lst)//2\n",
    "        l=lst[:mid]\n",
    "        r=lst[mid:]\n",
    "\n",
    "        merge_sort(l)\n",
    "        merge_sort(r)\n",
    "\n",
    "        i=j=k=0\n",
    "        while i<len(l) and j<len(r):\n",
    "            if l[i]<=r[j]:\n",
    "                lst[k]=l[i]\n",
    "                i+=1\n",
    "            else:\n",
    "                lst[k]=r[j]\n",
    "                j+=1\n",
    "            k+=1\n",
    "\n",
    "        while i < len(l):\n",
    "            lst[k]=l[i]\n",
    "            i+=1\n",
    "            k+=1\n",
    "        while j<len(r):\n",
    "            lst[k]=r[j]\n",
    "            j+=1\n",
    "            k+=1\n",
    "\n",
    "merge_sort(lst)\n",
    "print(lst)"
   ]
  },
  {
   "cell_type": "code",
   "execution_count": 4,
   "metadata": {},
   "outputs": [
    {
     "name": "stdout",
     "output_type": "stream",
     "text": [
      "[1, 2, 3]\n"
     ]
    }
   ],
   "source": [
    "# insertion sort\n",
    "n=int(input(\"enter the size of the array: \"))\n",
    "lst=[]\n",
    "for i in range(n):\n",
    "    ele=int(input(\"enter the number: \"))\n",
    "    lst.append(ele)\n",
    "\n",
    "def insertion_sort(lst):\n",
    "    for i in range(1,len(lst)):\n",
    "        key=lst[i]\n",
    "        j=i-1\n",
    "        while j >= 0 and key<lst[j]:\n",
    "            lst[j+1]=lst[j]\n",
    "            j-=1\n",
    "        lst[j+1]=key\n",
    "\n",
    "insertion_sort(lst)\n",
    "print(lst)"
   ]
  },
  {
   "cell_type": "code",
   "execution_count": 5,
   "metadata": {},
   "outputs": [
    {
     "name": "stdout",
     "output_type": "stream",
     "text": [
      "[1, 2, 3, 3, 4]\n"
     ]
    }
   ],
   "source": [
    "# bubble sort\n",
    "n=int(input(\"enter the size of the array: \"))\n",
    "lst=[]\n",
    "for i in range(n):\n",
    "    ele=int(input(\"enter the number: \"))\n",
    "    lst.append(ele)\n",
    "\n",
    "def bubble_sort(lst):\n",
    "    for i in range(n):\n",
    "        for j in range(n-i-1):\n",
    "            if lst[j]>lst[j+1]:\n",
    "                lst[j],lst[j+1]=lst[j+1],lst[j]\n",
    "bubble_sort(lst)\n",
    "print(lst)"
   ]
  },
  {
   "cell_type": "code",
   "execution_count": 6,
   "metadata": {},
   "outputs": [
    {
     "name": "stdout",
     "output_type": "stream",
     "text": [
      "[1, 2, 4, 7]\n"
     ]
    },
    {
     "data": {
      "text/plain": [
       "3"
      ]
     },
     "execution_count": 6,
     "metadata": {},
     "output_type": "execute_result"
    }
   ],
   "source": [
    "# search the target element:\n",
    "n=int(input(\"enter the size of the array: \"))\n",
    "m=int(input(\"enter the target element: \"))\n",
    "lst=[]\n",
    "for i in range(n):\n",
    "    ele=int(input(\"enter the number: \"))\n",
    "    lst.append(ele)\n",
    "\n",
    "print(lst)\n",
    "\n",
    "def binary_search(lst):\n",
    "    start=0\n",
    "    end=n-1\n",
    "    while start<=end:\n",
    "        mid=(start+end)//2\n",
    "        if lst[mid]==m:\n",
    "            return mid\n",
    "        elif lst[mid]>m:\n",
    "            end=mid-1\n",
    "        else:\n",
    "            start=mid+1\n",
    "    return start\n",
    "\n",
    "binary_search(lst)"
   ]
  },
  {
   "cell_type": "code",
   "execution_count": 10,
   "metadata": {},
   "outputs": [
    {
     "name": "stdout",
     "output_type": "stream",
     "text": [
      "3\n"
     ]
    }
   ],
   "source": [
    "# no of ways \n",
    "n=int(input(\"enter the size of the array: \"))\n",
    "target=int(input(\"Enter the target: \"))\n",
    "lst=[]\n",
    "for i in range(n):\n",
    "    ele=int(input(\"enter the number: \"))\n",
    "    lst.append(ele)\n",
    "\n",
    "def no_of_ways(lst,i,sum,target):\n",
    "    if sum==target and i==len(arr):\n",
    "        return i\n",
    "    if i>= len(arr):\n",
    "        return 0\n",
    "    \n",
    "    return no_of_ways(lst,i+1,sum+lst[i],target) + no_of_ways(lst,i+1,sum-lst[i],target)\n",
    "\n",
    "print(no_of_ways(lst,0,0,target))"
   ]
  }
 ],
 "metadata": {
  "kernelspec": {
   "display_name": "Python 3",
   "language": "python",
   "name": "python3"
  },
  "language_info": {
   "codemirror_mode": {
    "name": "ipython",
    "version": 3
   },
   "file_extension": ".py",
   "mimetype": "text/x-python",
   "name": "python",
   "nbconvert_exporter": "python",
   "pygments_lexer": "ipython3",
   "version": "3.11.4"
  }
 },
 "nbformat": 4,
 "nbformat_minor": 2
}
