{
 "cells": [
  {
   "cell_type": "code",
   "execution_count": 2,
   "metadata": {},
   "outputs": [
    {
     "data": {
      "text/plain": [
       "5"
      ]
     },
     "execution_count": 2,
     "metadata": {},
     "output_type": "execute_result"
    }
   ],
   "source": [
    "str1=input(\"enter the string: \")\n",
    "def no_of_words(str1):\n",
    "    return len(str1.split(\" \"))\n",
    "\n",
    "no_of_words(str1)"
   ]
  },
  {
   "cell_type": "code",
   "execution_count": 4,
   "metadata": {},
   "outputs": [
    {
     "data": {
      "text/plain": [
       "False"
      ]
     },
     "execution_count": 4,
     "metadata": {},
     "output_type": "execute_result"
    }
   ],
   "source": [
    "str1=input(\"enter the string: \")\n",
    "def palindrome_or_not(str1):\n",
    "    str2=str1\n",
    "    l1=list(str1)\n",
    "    l2=list(str2)\n",
    "    start=0\n",
    "    end=len(l2)-1\n",
    "    while(start<end):\n",
    "        l2[start],l2[end]=l2[end],l2[start]\n",
    "        start+=1\n",
    "        end-=1\n",
    "    return l1==l2\n",
    "palindrome_or_not(str1)"
   ]
  },
  {
   "cell_type": "code",
   "execution_count": 7,
   "metadata": {},
   "outputs": [
    {
     "data": {
      "text/plain": [
       "['a', 'ab', 'abc', 'b', 'bc', 'c']"
      ]
     },
     "execution_count": 7,
     "metadata": {},
     "output_type": "execute_result"
    }
   ],
   "source": [
    "str1=input(\"enter the string: \")\n",
    "def all_substrings(str1):\n",
    "    arr=[]\n",
    "    for i in range(len(str1)):\n",
    "        s=\"\"\n",
    "        for j in range(i,len(str1)):\n",
    "            s+=str1[j]\n",
    "            arr.append(s)\n",
    "    return arr\n",
    "all_substrings(str1)"
   ]
  },
  {
   "cell_type": "code",
   "execution_count": 8,
   "metadata": {},
   "outputs": [
    {
     "data": {
      "text/plain": [
       "['__class__',\n",
       " '__class_getitem__',\n",
       " '__contains__',\n",
       " '__delattr__',\n",
       " '__delitem__',\n",
       " '__dir__',\n",
       " '__doc__',\n",
       " '__eq__',\n",
       " '__format__',\n",
       " '__ge__',\n",
       " '__getattribute__',\n",
       " '__getitem__',\n",
       " '__getstate__',\n",
       " '__gt__',\n",
       " '__hash__',\n",
       " '__init__',\n",
       " '__init_subclass__',\n",
       " '__ior__',\n",
       " '__iter__',\n",
       " '__le__',\n",
       " '__len__',\n",
       " '__lt__',\n",
       " '__ne__',\n",
       " '__new__',\n",
       " '__or__',\n",
       " '__reduce__',\n",
       " '__reduce_ex__',\n",
       " '__repr__',\n",
       " '__reversed__',\n",
       " '__ror__',\n",
       " '__setattr__',\n",
       " '__setitem__',\n",
       " '__sizeof__',\n",
       " '__str__',\n",
       " '__subclasshook__',\n",
       " 'clear',\n",
       " 'copy',\n",
       " 'fromkeys',\n",
       " 'get',\n",
       " 'items',\n",
       " 'keys',\n",
       " 'pop',\n",
       " 'popitem',\n",
       " 'setdefault',\n",
       " 'update',\n",
       " 'values']"
      ]
     },
     "execution_count": 8,
     "metadata": {},
     "output_type": "execute_result"
    }
   ],
   "source": [
    "dir(dict)"
   ]
  },
  {
   "cell_type": "code",
   "execution_count": 11,
   "metadata": {},
   "outputs": [
    {
     "data": {
      "text/plain": [
       "True"
      ]
     },
     "execution_count": 11,
     "metadata": {},
     "output_type": "execute_result"
    }
   ],
   "source": [
    "str1=input(\"enter the string1: \")\n",
    "str2=input(\"enter the string2: \")\n",
    "\n",
    "def check_permutations(str1,str2):\n",
    "    dict1={}\n",
    "    for i in str1:\n",
    "        if i in dict1:\n",
    "            dict1[i]+=1\n",
    "        else:\n",
    "            dict1[i]=1\n",
    "    \n",
    "    for i in str2:\n",
    "        if i in dict1:\n",
    "            dict1[i]-=1\n",
    "            if dict1[i]==0:\n",
    "                dict1.pop(i)\n",
    "        else:\n",
    "            return False\n",
    "    \n",
    "    if dict1:\n",
    "        return False\n",
    "    else:\n",
    "        return True\n",
    "\n",
    "check_permutations(str1,str2)"
   ]
  },
  {
   "cell_type": "code",
   "execution_count": 14,
   "metadata": {},
   "outputs": [
    {
     "data": {
      "text/plain": [
       "'abc'"
      ]
     },
     "execution_count": 14,
     "metadata": {},
     "output_type": "execute_result"
    }
   ],
   "source": [
    "str1=input(\"enter the string1: \")\n",
    "def remove_duplicates(str1):\n",
    "    start=0\n",
    "    end=0\n",
    "    l1=list(str1)\n",
    "    while end<len(l1)-1:\n",
    "        if l1[end]!=l1[end+1]:\n",
    "            l1[start]=l1[end]\n",
    "            start+=1\n",
    "        end+=1\n",
    "    l1[start]=l1[len(l1)-1]\n",
    "    ans=\"\"\n",
    "    for i in range(start+1):\n",
    "        ans+=l1[i]\n",
    "    return ans\n",
    "\n",
    "remove_duplicates(str1)\n",
    "    "
   ]
  },
  {
   "cell_type": "code",
   "execution_count": 18,
   "metadata": {},
   "outputs": [
    {
     "data": {
      "text/plain": [
       "'bbbbvvcvmn'"
      ]
     },
     "execution_count": 18,
     "metadata": {},
     "output_type": "execute_result"
    }
   ],
   "source": [
    "str1=input(\"enter the string1: \")\n",
    "x=input(\"enter the character to be removed \")\n",
    "def remove_character(str1):\n",
    "    ans=\"\"\n",
    "    for i in range(len(str1)):\n",
    "        if str1[i]==x:\n",
    "            continue\n",
    "        else:\n",
    "            ans+=str1[i]\n",
    "    return ans\n",
    "\n",
    "remove_character(str1)"
   ]
  },
  {
   "cell_type": "code",
   "execution_count": 19,
   "metadata": {},
   "outputs": [
    {
     "data": {
      "text/plain": [
       "'a'"
      ]
     },
     "execution_count": 19,
     "metadata": {},
     "output_type": "execute_result"
    }
   ],
   "source": [
    "str1=input(\"enter the string1: \")\n",
    "\n",
    "\n",
    "def highest_occuring_character(str1):\n",
    "    dict1={}\n",
    "    for i in str1:\n",
    "        if i in dict1:\n",
    "            dict1[i]+=1\n",
    "        else:\n",
    "            dict1[i]=1\n",
    "    \n",
    "    max_val=0\n",
    "    ans=\"\"\n",
    "    for key,value in dict1.items():\n",
    "        if value >= max_val:\n",
    "            ans=key\n",
    "            max_val=value\n",
    "    return ans\n",
    "\n",
    "highest_occuring_character(str1)"
   ]
  },
  {
   "cell_type": "code",
   "execution_count": 21,
   "metadata": {},
   "outputs": [
    {
     "data": {
      "text/plain": [
       "'a3b5c2'"
      ]
     },
     "execution_count": 21,
     "metadata": {},
     "output_type": "execute_result"
    }
   ],
   "source": [
    "str1=input(\"enter the string1: \")\n",
    "\n",
    "def compress_string(str1):\n",
    "    ans=\"\"\n",
    "    count=1\n",
    "    for i in range(0,len(str1)-1):\n",
    "        if str1[i]!=str1[i+1]:\n",
    "            if count==1:\n",
    "                ans+=str1[i]\n",
    "            else:\n",
    "                ans+=str1[i]+str(count)\n",
    "                count=0\n",
    "        count+=1\n",
    "    ans+=str1[len(str1)-1]+str(count)\n",
    "    return ans\n",
    "\n",
    "compress_string(str1)\n",
    "    "
   ]
  }
 ],
 "metadata": {
  "kernelspec": {
   "display_name": "Python 3",
   "language": "python",
   "name": "python3"
  },
  "language_info": {
   "codemirror_mode": {
    "name": "ipython",
    "version": 3
   },
   "file_extension": ".py",
   "mimetype": "text/x-python",
   "name": "python",
   "nbconvert_exporter": "python",
   "pygments_lexer": "ipython3",
   "version": "3.11.4"
  }
 },
 "nbformat": 4,
 "nbformat_minor": 2
}
