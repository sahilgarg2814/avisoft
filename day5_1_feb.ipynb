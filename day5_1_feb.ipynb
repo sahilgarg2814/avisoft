{
 "cells": [
  {
   "cell_type": "code",
   "execution_count": 5,
   "metadata": {},
   "outputs": [
    {
     "name": "stdout",
     "output_type": "stream",
     "text": [
      "False\n"
     ]
    }
   ],
   "source": [
    "a=input(\"enter the string1: \")\n",
    "b=input(\"enter the string2: \")\n",
    "\n",
    "def similar_strings(a,b):\n",
    "    if len(a)%2==1:\n",
    "        if a==b:\n",
    "            return True\n",
    "        else:\n",
    "            return False\n",
    "    \n",
    "    a1=a[:len(a)//2]\n",
    "    a2=a[len(a)//2:]\n",
    "    b1=b[:len(b)//2]\n",
    "    b2=b[len(b)//2:]\n",
    "\n",
    "    if similar_strings(a1,b1) and similar_strings(a2,b2):\n",
    "        return True\n",
    "    elif similar_strings(a1,b2) and similar_strings(a2,b1):\n",
    "        return True\n",
    "    else:\n",
    "        return False\n",
    "\n",
    "print(similar_strings(a,b))\n"
   ]
  },
  {
   "cell_type": "code",
   "execution_count": 12,
   "metadata": {},
   "outputs": [
    {
     "data": {
      "text/plain": [
       "3"
      ]
     },
     "execution_count": 12,
     "metadata": {},
     "output_type": "execute_result"
    }
   ],
   "source": [
    "# minimum changes required to get all the substring of the string distinct\n",
    "str1=input(\"enter the string: \")\n",
    "\n",
    "def minimum_changes(str1):\n",
    "    max_char=26\n",
    "    count=[0]*max_char\n",
    "    distinct_count=0\n",
    "\n",
    "    n=len(str1)\n",
    "    if n>max_char:\n",
    "        return -1\n",
    "    \n",
    "    for i in range(n):\n",
    "        if (count[ord(str1[i])-ord('a')]==0):\n",
    "            distinct_count+=1\n",
    "        \n",
    "        count[ord(str1[i])-ord('a')]+=1\n",
    "    \n",
    "    return n-distinct_count\n",
    "\n",
    "minimum_changes(str1)"
   ]
  },
  {
   "cell_type": "code",
   "execution_count": 17,
   "metadata": {},
   "outputs": [
    {
     "name": "stdout",
     "output_type": "stream",
     "text": [
      "123\n",
      "456\n"
     ]
    },
    {
     "data": {
      "text/plain": [
       "56088"
      ]
     },
     "execution_count": 17,
     "metadata": {},
     "output_type": "execute_result"
    }
   ],
   "source": [
    "a=input(\"enter the string1: \")\n",
    "b=input(\"Enter the string2: \")\n",
    "\n",
    "def multiply_string(a,b):\n",
    "    c=0\n",
    "    d=0\n",
    "    for i in range(len(a)):\n",
    "        rem=ord(a[i])-ord('0')\n",
    "        c=c*10+rem\n",
    "    \n",
    "    for i in range(len(b)):\n",
    "        rem=ord(b[i])-ord('0')\n",
    "        d=d*10+rem\n",
    "    \n",
    "    return c*d\n",
    "\n",
    "multiply_string(a,b)\n",
    "    "
   ]
  },
  {
   "cell_type": "code",
   "execution_count": 20,
   "metadata": {},
   "outputs": [
    {
     "name": "stdout",
     "output_type": "stream",
     "text": [
      "['aaaa', 'aaab', 'aaac', 'aaba', 'aabc', 'aaca', 'aacb', 'aacc', 'abaa', 'abac', 'abca', 'abcc', 'acaa', 'acab', 'acac', 'acba', 'acbc', 'acca', 'accb', 'baaa', 'baac', 'baca', 'bacc', 'bcaa', 'bcac', 'bcca', 'caaa', 'caab', 'caac', 'caba', 'cabc', 'caca', 'cacb', 'cbaa', 'cbac', 'cbca', 'ccaa', 'ccab', 'ccba']\n",
      "39\n"
     ]
    }
   ],
   "source": [
    "n=int(input(\"enter the string: \"))\n",
    "list1=[]\n",
    "count_b=0\n",
    "count_c=0\n",
    "\n",
    "def solve(list1,n,str1,index,count_b,count_c):\n",
    "    if index==n:\n",
    "        list1.append(str1)\n",
    "        return\n",
    "    else:\n",
    "        solve(list1,n,str1+'a',index+1,count_b,count_c)\n",
    "        if count_b<1:\n",
    "            solve(list1,n,str1+'b',index+1,count_b+1,count_c)\n",
    "        if count_c<2:\n",
    "            solve(list1,n,str1+'c',index+1,count_b,count_c+1)\n",
    "\n",
    "solve(list1,n,\"\",0,count_b,count_c)\n",
    "print(list1)\n",
    "print(len(list1))"
   ]
  },
  {
   "cell_type": "code",
   "execution_count": 22,
   "metadata": {},
   "outputs": [
    {
     "data": {
      "text/plain": [
       "1"
      ]
     },
     "execution_count": 22,
     "metadata": {},
     "output_type": "execute_result"
    }
   ],
   "source": [
    "str1=input(\"enter the string: \")\n",
    "\n",
    "def no_of_removings(str1):\n",
    "    st=[]\n",
    "    st.append(str1[0])\n",
    "    for i in range(1,len(str1)):\n",
    "            if st:\n",
    "                if st[-1]=='(' and str1[i]==')':\n",
    "                    st.pop()\n",
    "                else:\n",
    "                    st.append(str1[i])\n",
    "            else:\n",
    "                st.append(str1[i])\n",
    "    return len(st)\n",
    "\n",
    "no_of_removings(str1)"
   ]
  }
 ],
 "metadata": {
  "kernelspec": {
   "display_name": "Python 3",
   "language": "python",
   "name": "python3"
  },
  "language_info": {
   "codemirror_mode": {
    "name": "ipython",
    "version": 3
   },
   "file_extension": ".py",
   "mimetype": "text/x-python",
   "name": "python",
   "nbconvert_exporter": "python",
   "pygments_lexer": "ipython3",
   "version": "3.11.4"
  }
 },
 "nbformat": 4,
 "nbformat_minor": 2
}
