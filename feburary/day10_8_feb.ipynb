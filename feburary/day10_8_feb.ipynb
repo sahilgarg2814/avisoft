{
 "cells": [
  {
   "cell_type": "markdown",
   "metadata": {},
   "source": [
    "Write a Python function that takes two parameters, numerator and denominator, and returns the result of the division. However, handle the case where the denominator is zero by using a try-except block. In the except block, print an error message and return None\n"
   ]
  },
  {
   "cell_type": "code",
   "execution_count": 19,
   "metadata": {},
   "outputs": [
    {
     "data": {
      "text/plain": [
       "0"
      ]
     },
     "execution_count": 19,
     "metadata": {},
     "output_type": "execute_result"
    }
   ],
   "source": [
    "def division(numerator,denominator):\n",
    "    try:\n",
    "        result=numerator//denominator\n",
    "    except ZeroDivisionError:\n",
    "        print(\"denoninator is zero\")\n",
    "    else:\n",
    "        return result\n",
    "\n",
    "try:\n",
    "    numerator=int(input(\"Enter the numerator: \"))\n",
    "    denominator=int(input(\"Enter the denomintor: \"))\n",
    "except ValueError:\n",
    "    print(\"invalid input\")\n",
    "division(numerator,denominator)\n",
    "\n"
   ]
  },
  {
   "cell_type": "markdown",
   "metadata": {},
   "source": [
    "Create a function that reads the content of a file. Use a try-except block to handle the case where the file does not exist. In the except block, print an error message and return an empty string."
   ]
  },
  {
   "cell_type": "code",
   "execution_count": 9,
   "metadata": {},
   "outputs": [
    {
     "name": "stdout",
     "output_type": "stream",
     "text": [
      "file not found\n"
     ]
    }
   ],
   "source": [
    "def read_file(path):\n",
    "    try:\n",
    "        with open(path,'r') as f:\n",
    "            data=f.read()\n",
    "        print(data)\n",
    "    except FileNotFoundError:\n",
    "        print(f\"file not found\")\n",
    "\n",
    "try:\n",
    "    path=input(\"enter the path: \")\n",
    "except ValueError:\n",
    "    print(\"Invalid input\")\n",
    "\n",
    "read_file(path)"
   ]
  },
  {
   "cell_type": "markdown",
   "metadata": {},
   "source": [
    "Define a custom exception class called InvalidInputError. Write a function that takes user input (an integer) and raises this custom exception if the input is not a positive integer. Use a try-except block to catch this custom exception and print an error message.\n"
   ]
  },
  {
   "cell_type": "code",
   "execution_count": 14,
   "metadata": {},
   "outputs": [
    {
     "name": "stdout",
     "output_type": "stream",
     "text": [
      "positive number: 67\n"
     ]
    }
   ],
   "source": [
    "class notPositiveNumber(Exception):\n",
    "    # Raised when no is is less zero\n",
    "    pass\n",
    "\n",
    "try:\n",
    "    number=int(input(\"enter the number: \"))\n",
    "    if number<0:\n",
    "        raise notPositiveNumber\n",
    "except (ValueError,notPositiveNumber):\n",
    "    print(\"not positive number or invalid input\")\n",
    "else:\n",
    "        print(f\"positive number: {number}\")"
   ]
  },
  {
   "cell_type": "markdown",
   "metadata": {},
   "source": [
    "Create a function that validates a user's password. The password must satisfy the following conditions:\n",
    "\n",
    "At least 8 characters long\n",
    "Contains at least one uppercase letter\n",
    "Contains at least one digit"
   ]
  },
  {
   "cell_type": "code",
   "execution_count": 16,
   "metadata": {},
   "outputs": [
    {
     "name": "stdout",
     "output_type": "stream",
     "text": [
      "not a valid password or invalid input\n"
     ]
    }
   ],
   "source": [
    "import re\n",
    "class not_valid_password(Exception):\n",
    "    pass\n",
    "\n",
    "try:\n",
    "    password=input(\"Enter the password: \")\n",
    "    if re.search('[0-9]',password) is None and re.search('A-Z',password) is None and len(password)<8:\n",
    "        raise not_valid_password\n",
    "except (ValueError,not_valid_password):\n",
    "    print(\"not a valid password or invalid input\")\n",
    "else:\n",
    "    print(f\"valid password: {password}\")"
   ]
  },
  {
   "cell_type": "markdown",
   "metadata": {},
   "source": [
    "URL Parsing\n",
    "Create a function that parses a URL and extracts the protocol (http or https), domain, and path. Define a custom exception InvalidURLError and raise it if the URL does not start with \"http://\" or \"https:/"
   ]
  },
  {
   "cell_type": "code",
   "execution_count": 1,
   "metadata": {},
   "outputs": [
    {
     "name": "stdout",
     "output_type": "stream",
     "text": [
      "Protocol: https://\n",
      "Domain: www.example.com\n",
      "Path: /path/to/page\n"
     ]
    }
   ],
   "source": [
    "import re\n",
    "\n",
    "class InvalidUrlError(Exception):\n",
    "    pass\n",
    "\n",
    "def parse_url(url):\n",
    "    pattern = r'^(https?://)([^/]+)(.*)$'\n",
    "    match = re.match(pattern, url)\n",
    "    if match:\n",
    "        protocol = match.group(1)\n",
    "        domain = match.group(2)\n",
    "        path = match.group(3)\n",
    "        return protocol, domain, path\n",
    "    else:    \n",
    "        raise InvalidUrlError(\"Invalid URL format. URL must start with 'http://' or 'https://'.\")\n",
    "\n",
    "\n",
    "try:\n",
    "    url = \"https://www.example.com/path/to/page\"\n",
    "    protocol, domain, path = parse_url(url)\n",
    "    print(\"Protocol:\", protocol)\n",
    "    print(\"Domain:\", domain)\n",
    "    print(\"Path:\", path)\n",
    "except InvalidUrlError as e:\n",
    "    print(\"Error:\", e)"
   ]
  },
  {
   "cell_type": "markdown",
   "metadata": {},
   "source": [
    "This regular expression is written in Python's re module syntax and is used to match and capture parts of a URL string. Let's break it down:\n",
    "\n",
    "^: Asserts the start of the string.\n",
    "\n",
    "(https?://): This is a capturing group that matches the protocol part of the URL. It matches http:// or https:// where the s is optional due to the ? quantifier, meaning it matches 0 or 1 occurrence of the preceding character.\n",
    "\n",
    "([^/]+): This is another capturing group that matches the domain part of the URL. It matches one or more characters that are not a forward slash /.\n",
    "\n",
    "(.*): This is the last capturing group, matching the rest of the URL after the domain part. It captures any characters (.) zero or more times (*).\n",
    "\n",
    "$: Asserts the end of the string.\n",
    "\n",
    "So, in summary, this regular expression captures three parts of a URL:\n",
    "\n",
    "The protocol (http:// or https://)\n",
    "The domain (the part before the first '/')\n",
    "The rest of the URL after the domain.\n",
    "For example, if you apply this regex to the URL \"https://www.example.com/path/to/resource\", the capturing groups would capture:\n",
    "\n",
    "Group 1: \"https://\"\n",
    "Group 2: \"www.example.com\"\n",
    "Group 3: \"/path/to/resource\"\n"
   ]
  },
  {
   "cell_type": "markdown",
   "metadata": {},
   "source": [
    "Write a function that accepts a number as input and uses a custom exception AssertionError to raise an error if the number is negative. Use an assert statement to check this condition"
   ]
  },
  {
   "cell_type": "code",
   "execution_count": 22,
   "metadata": {},
   "outputs": [
    {
     "name": "stdout",
     "output_type": "stream",
     "text": [
      "number not positive\n"
     ]
    }
   ],
   "source": [
    "try:\n",
    "    number=int(input(\"enter the number: \"))\n",
    "    assert number>0  , \"number not positive\"\n",
    "\n",
    "    print(\"number is positive.\")\n",
    "    \n",
    "except AssertionError as msg:\n",
    "    print(msg)"
   ]
  }
 ],
 "metadata": {
  "kernelspec": {
   "display_name": "Python 3",
   "language": "python",
   "name": "python3"
  },
  "language_info": {
   "codemirror_mode": {
    "name": "ipython",
    "version": 3
   },
   "file_extension": ".py",
   "mimetype": "text/x-python",
   "name": "python",
   "nbconvert_exporter": "python",
   "pygments_lexer": "ipython3",
   "version": "3.11.4"
  }
 },
 "nbformat": 4,
 "nbformat_minor": 2
}
