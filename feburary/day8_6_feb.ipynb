{
 "cells": [
  {
   "cell_type": "code",
   "execution_count": 1,
   "metadata": {},
   "outputs": [],
   "source": [
    "# Write a Python program to copy the contents of a file to another file\n",
    "\n",
    "filename=\"sahil file\"\n",
    "with open(filename,'w') as f:\n",
    "    f.write(\"sahil willbe the the king of the world.\\n\")\n",
    "    f.write(\"sahil will conquer the world turn it on its head.\")\n",
    "\n",
    "with open(\"sahil file\",'r') as f,open(\"sahil file2\",'a') as f2:\n",
    "    for line in f:\n",
    "        f2.write(line)\n"
   ]
  },
  {
   "cell_type": "code",
   "execution_count": null,
   "metadata": {},
   "outputs": [],
   "source": [
    "import shutil\n",
    "\n",
    "shutil.copyfile('sahil file','sahil file2')"
   ]
  },
  {
   "cell_type": "code",
   "execution_count": 2,
   "metadata": {},
   "outputs": [
    {
     "name": "stdout",
     "output_type": "stream",
     "text": [
      "sahil willbe the the king of the world.\n",
      "sahil willbe the the king of the world.\n",
      "\n",
      "sahil will conquer the world turn it on its head.sahil will conquer the world turn it on its head.\n"
     ]
    }
   ],
   "source": [
    "# Write a Python programto combine each line from first file with the corresponding line in second file.\n",
    "with open(\"sahil file\",'r') as f,open(\"sahil file2\",'r') as f2:\n",
    "    for line1,line2 in zip(f,f2):\n",
    "        print(line1+line2)"
   ]
  },
  {
   "cell_type": "code",
   "execution_count": 11,
   "metadata": {},
   "outputs": [],
   "source": [
    "import random\n",
    "with open('rand','a') as f:\n",
    "    for i in range(10):\n",
    "        f.write(str((random.randint(1,100)))+'\\n')\n",
    "    \n",
    "with open ('rand', 'r') as read_file:\n",
    "    list1=[]\n",
    "    for line in  read_file:\n",
    "        line.replace('\\n','')\n",
    "        line=int(line)\n",
    "        list1.append(line)\n",
    "    list1.sort()\n",
    "    with open('sorted_rand','a') as f2:\n",
    "        for i in list1:\n",
    "            f2.write(str(i)+'\\n')\n",
    "    \n",
    "\n"
   ]
  },
  {
   "cell_type": "code",
   "execution_count": 16,
   "metadata": {},
   "outputs": [
    {
     "name": "stdout",
     "output_type": "stream",
     "text": [
      "0\n",
      "['From', 'stephen.marquard@uct.ac.za', 'Sat', 'Jan', '5', '09:14:16', '2008']\n",
      "['09', '14', '16']\n",
      "65\n",
      "['From', 'louis@media.berkeley.edu', 'Fri', 'Jan', '4', '18:10:48', '2008']\n",
      "['18', '10', '48']\n",
      "130\n",
      "['From', 'zqian@umich.edu', 'Fri', 'Jan', '4', '16:10:39', '2008']\n",
      "['16', '10', '39']\n",
      "194\n",
      "['From', 'rjlowe@iupui.edu', 'Fri', 'Jan', '4', '15:46:24', '2008']\n",
      "['15', '46', '24']\n",
      "262\n",
      "['From', 'zqian@umich.edu', 'Fri', 'Jan', '4', '15:03:18', '2008']\n",
      "['15', '03', '18']\n",
      "335\n",
      "['From', 'rjlowe@iupui.edu', 'Fri', 'Jan', '4', '14:50:18', '2008']\n",
      "['14', '50', '18']\n",
      "414\n",
      "['From', 'cwen@iupui.edu', 'Fri', 'Jan', '4', '11:37:30', '2008']\n",
      "['11', '37', '30']\n",
      "493\n",
      "['From', 'cwen@iupui.edu', 'Fri', 'Jan', '4', '11:35:08', '2008']\n",
      "['11', '35', '08']\n",
      "572\n",
      "['From', 'gsilver@umich.edu', 'Fri', 'Jan', '4', '11:12:37', '2008']\n",
      "['11', '12', '37']\n",
      "638\n",
      "['From', 'gsilver@umich.edu', 'Fri', 'Jan', '4', '11:11:52', '2008']\n",
      "['11', '11', '52']\n",
      "704\n",
      "['From', 'zqian@umich.edu', 'Fri', 'Jan', '4', '11:11:03', '2008']\n",
      "['11', '11', '03']\n",
      "769\n",
      "['From', 'gsilver@umich.edu', 'Fri', 'Jan', '4', '11:10:22', '2008']\n",
      "['11', '10', '22']\n",
      "835\n",
      "['From', 'wagnermr@iupui.edu', 'Fri', 'Jan', '4', '10:38:42', '2008']\n",
      "['10', '38', '42']\n",
      "904\n",
      "['From', 'zqian@umich.edu', 'Fri', 'Jan', '4', '10:17:43', '2008']\n",
      "['10', '17', '43']\n",
      "969\n",
      "['From', 'antranig@caret.cam.ac.uk', 'Fri', 'Jan', '4', '10:04:14', '2008']\n",
      "['10', '04', '14']\n",
      "1046\n",
      "['From', 'gopal.ramasammycook@gmail.com', 'Fri', 'Jan', '4', '09:05:31', '2008']\n",
      "['09', '05', '31']\n",
      "1120\n",
      "['From', 'david.horwitz@uct.ac.za', 'Fri', 'Jan', '4', '07:02:32', '2008']\n",
      "['07', '02', '32']\n",
      "1206\n",
      "['From', 'david.horwitz@uct.ac.za', 'Fri', 'Jan', '4', '06:08:27', '2008']\n",
      "['06', '08', '27']\n",
      "1275\n",
      "['From', 'david.horwitz@uct.ac.za', 'Fri', 'Jan', '4', '04:49:08', '2008']\n",
      "['04', '49', '08']\n",
      "1353\n",
      "['From', 'david.horwitz@uct.ac.za', 'Fri', 'Jan', '4', '04:33:44', '2008']\n",
      "['04', '33', '44']\n",
      "1439\n",
      "['From', 'stephen.marquard@uct.ac.za', 'Fri', 'Jan', '4', '04:07:34', '2008']\n",
      "['04', '07', '34']\n",
      "1503\n",
      "['From', 'louis@media.berkeley.edu', 'Thu', 'Jan', '3', '19:51:21', '2008']\n",
      "['19', '51', '21']\n",
      "1568\n",
      "['From', 'louis@media.berkeley.edu', 'Thu', 'Jan', '3', '17:18:23', '2008']\n",
      "['17', '18', '23']\n",
      "1633\n",
      "['From', 'ray@media.berkeley.edu', 'Thu', 'Jan', '3', '17:07:00', '2008']\n",
      "['17', '07', '00']\n",
      "1697\n",
      "['From', 'cwen@iupui.edu', 'Thu', 'Jan', '3', '16:34:40', '2008']\n",
      "['16', '34', '40']\n",
      "1762\n",
      "['From', 'cwen@iupui.edu', 'Thu', 'Jan', '3', '16:29:07', '2008']\n",
      "['16', '29', '07']\n",
      "1837\n",
      "['From', 'cwen@iupui.edu', 'Thu', 'Jan', '3', '16:23:48', '2008']\n",
      "['16', '23', '48']\n",
      "04 --> 3\n",
      "06 --> 1\n",
      "07 --> 1\n",
      "09 --> 2\n",
      "10 --> 3\n",
      "11 --> 6\n",
      "14 --> 1\n",
      "15 --> 2\n",
      "16 --> 4\n",
      "17 --> 2\n",
      "18 --> 1\n",
      "19 --> 1\n"
     ]
    }
   ],
   "source": [
    "# Write a program to read through the mbox-short.txt and\n",
    "# figure out the distribution by hour of the day for each of the messages.\n",
    "# You can pull the hour out from the 'From ' line by finding the time\n",
    "# and then splitting the string a second time using a colon.\n",
    "# From stephen.marquard@uct.ac.za Sat Jan  5 09:14:16 2008\n",
    "# Once you have accumulated the counts for each hour, print out the counts,\n",
    "# sorted by hour as shown below. Note that the autograder\n",
    "# does not have support for the sorted() function.\n",
    "\n",
    "# can also use startwith function\n",
    "dict1={}\n",
    "with open(r\"D:\\datasets2\\mbox-short.txt\",'r') as f:\n",
    "    for i,line in enumerate(f):\n",
    "        data=line.split()\n",
    "        if len(data)!=0 and data[0]==\"From\" :\n",
    "            if len(data)>=6:\n",
    "                print(i)\n",
    "                print(data)\n",
    "                timestamp=data[5]\n",
    "                hour=timestamp.split(':')\n",
    "                print(hour)\n",
    "                hour=hour[0]\n",
    "                \n",
    "                if hour in dict1:\n",
    "                    dict1[hour]+=1\n",
    "                else:\n",
    "                    dict1[hour]=1\n",
    "\n",
    "\n",
    "for key,value in sorted(dict1.items()):\n",
    "    print(key,\"-->\",value)\n"
   ]
  },
  {
   "cell_type": "code",
   "execution_count": 24,
   "metadata": {},
   "outputs": [
    {
     "name": "stdout",
     "output_type": "stream",
     "text": [
      "(48, 1259)\n",
      "(33, 1375)\n",
      "(83, 2203)\n",
      "(66, 2378)\n"
     ]
    }
   ],
   "source": [
    "# Write a function which count number of lines and number of words in a text. All the files are in the data the folder:\n",
    "# a) Read obama_speech.txt file and count number of lines and words \n",
    "# b) Read michelle_obama_speech.txt file and count number of lines and words \n",
    "# c) Read donald_speech.txt file and count number of lines and words \n",
    "# d) Read melina_trump_speech.txt file and count number of lines and words\n",
    "\n",
    "def find_no_of_lines_count_of_words(path):\n",
    "    count=0\n",
    "    words=0\n",
    "    with open(path,'r') as f:\n",
    "        for line in f:\n",
    "            line=line.replace(',','')\n",
    "            line=line.replace('|','')\n",
    "            line=line.replace('.','')\n",
    "            line=line.replace('-','')\n",
    "            line=line.replace(';','')\n",
    "            line=line.replace(':',' ')\n",
    "            count+=1\n",
    "            data=line.split()\n",
    "            words+=len(data)\n",
    "    return count,words\n",
    "\n",
    "print(find_no_of_lines_count_of_words(\"D:\\datasets2\\donald_speech.txt\"))\n",
    "print(find_no_of_lines_count_of_words(\"D:\\datasets2\\melina_trump_speech.txt\"))\n",
    "print(find_no_of_lines_count_of_words(\"D:\\datasets2\\michelle_obama_speech.txt\"))\n",
    "print(find_no_of_lines_count_of_words(\"D:\\datasets2\\obama_speech.txt\"))"
   ]
  },
  {
   "cell_type": "code",
   "execution_count": 22,
   "metadata": {},
   "outputs": [
    {
     "name": "stdout",
     "output_type": "stream",
     "text": [
      "[('the', 61), ('and', 53), ('will', 40), ('of', 38), ('to', 32), ('our', 30)]\n"
     ]
    }
   ],
   "source": [
    "# Find the most common words in the English language. Call the name of your function find_most_common_words, \n",
    "# it will take two parameters - a string or a file and a positive integer, indicating the number of words. \n",
    "# Your function will return an array of tuples in descending order. Check the output\n",
    "from collections import Counter\n",
    "n=int(input(\"enter the number of most common words to be found: \"))\n",
    "counter=1\n",
    "def find_most_common_words(path,a):\n",
    "    with open(path,'r') as f:\n",
    "        data=f.read()\n",
    "       # print(data)\n",
    "        return Counter(data.split()).most_common(n)\n",
    "\n",
    "dict1={}\n",
    "def find_most_common_words2(path,a):\n",
    "    with open(path,'r') as f:\n",
    "            data=f.read()\n",
    "            line=line.replace(',','')\n",
    "            line=line.replace('|','')\n",
    "            line=line.replace('.','')\n",
    "            line=line.replace('-','')\n",
    "            line=line.replace(';','')\n",
    "            line=line.replace(':',' ')\n",
    "            data.split()\n",
    "\n",
    "            for i in data:\n",
    "                if i in dict1:\n",
    "                    dict1[i]+=1\n",
    "                else:\n",
    "                     dict1[i]=1\n",
    "            \n",
    "            dict1=sorted(dict1.items(),key=lambda x:x[1],reverse=True)\n",
    "            \n",
    "            for key,value in dict1:\n",
    "                if a!=0:\n",
    "                    print(key,value)\n",
    "                    a-=1\n",
    "                else:\n",
    "                     break  \n",
    "\n",
    "print(find_most_common_words(\"D:\\datasets2\\donald_speech.txt\",n))"
   ]
  },
  {
   "cell_type": "code",
   "execution_count": 1,
   "metadata": {},
   "outputs": [
    {
     "data": {
      "text/plain": [
       "200"
      ]
     },
     "execution_count": 1,
     "metadata": {},
     "output_type": "execute_result"
    }
   ],
   "source": [
    "# Write a program that computes the net amount of a bank account based a transaction log from console input. \n",
    "# The transaction log format is shown as following: D 100 W 200\n",
    "\n",
    "# D means deposit while W means withdrawal. Suppose the following input is supplied to the program: D 300 D 300 W 200 D 100 Then, \n",
    "# the output should be: 500\n",
    "\n",
    "def net_amount(path: str):\n",
    "    net=0\n",
    "    data=path.split()\n",
    "    i=0\n",
    "    while i < len(data):\n",
    "        if data[i].isalpha():\n",
    "            if data[i]=='D' or data[i]=='W':\n",
    "                if data[i]=='D':\n",
    "                    if data[i+1].isnumeric():\n",
    "                        net+=int(data[i+1])\n",
    "                    else:\n",
    "                        print(\"invalid input\")\n",
    "                        break\n",
    "                elif data[i]=='W':\n",
    "                    if data[i+1].isnumeric():\n",
    "                        net-=int(data[i+1])\n",
    "                    else:\n",
    "                        print(\"invalid input\")\n",
    "                        break\n",
    "            else:\n",
    "                print(\"invalid input\")\n",
    "                break\n",
    "        i+=2\n",
    "    return net\n",
    "\n",
    "path=input(\"enter the log format: \")\n",
    "net_amount(path)\n",
    "                    \n",
    "\n",
    "                \n",
    "\n"
   ]
  },
  {
   "cell_type": "code",
   "execution_count": 6,
   "metadata": {},
   "outputs": [
    {
     "name": "stdout",
     "output_type": "stream",
     "text": [
      "google\n"
     ]
    }
   ],
   "source": [
    "# Assuming that we have some email addresses in the \"username@companyname.com\" format, \n",
    "# please write program to print the company name of a given email address. \n",
    "# Both user names and company names are composed of letters only\n",
    "\n",
    "def company_name(path):\n",
    "    data=path.split('@')\n",
    "    company=data[1]\n",
    "    company=company.split('.')[0]\n",
    "    print(company)\n",
    "\n",
    "path=input(\"enter the email: \")\n",
    "company_name(path)"
   ]
  }
 ],
 "metadata": {
  "kernelspec": {
   "display_name": "Python 3",
   "language": "python",
   "name": "python3"
  },
  "language_info": {
   "codemirror_mode": {
    "name": "ipython",
    "version": 3
   },
   "file_extension": ".py",
   "mimetype": "text/x-python",
   "name": "python",
   "nbconvert_exporter": "python",
   "pygments_lexer": "ipython3",
   "version": "3.11.4"
  }
 },
 "nbformat": 4,
 "nbformat_minor": 2
}
