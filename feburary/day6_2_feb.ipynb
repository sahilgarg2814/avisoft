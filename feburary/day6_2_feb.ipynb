{
 "cells": [
  {
   "cell_type": "code",
   "execution_count": 4,
   "metadata": {},
   "outputs": [
    {
     "name": "stdout",
     "output_type": "stream",
     "text": [
      "{'__module__': '__main__', 'age': 21, '__init__': <function myself.__init__ at 0x0000022ED144C9A0>, 'display': <function myself.display at 0x0000022ED144CEA0>, '__dict__': <attribute '__dict__' of 'myself' objects>, '__weakref__': <attribute '__weakref__' of 'myself' objects>, '__doc__': None}\n"
     ]
    }
   ],
   "source": [
    "# class namespaces\n",
    "class myself:\n",
    "    age=21\n",
    "\n",
    "    def __init__(self,name,hobbies):\n",
    "        self.name=name\n",
    "        self.hobbies=hobbies\n",
    "    \n",
    "    def display(self):\n",
    "        print(f\"My name is {self.name} and hobbies are {self.display}\")\n",
    "\n",
    "print(myself.__dict__)"
   ]
  },
  {
   "cell_type": "code",
   "execution_count": 9,
   "metadata": {},
   "outputs": [
    {
     "name": "stdout",
     "output_type": "stream",
     "text": [
      "{'name': 'sahil', 'hobbies': 'reading and writing novels'}\n"
     ]
    }
   ],
   "source": [
    "# object namespace\n",
    "class myself:\n",
    "    age=21\n",
    "\n",
    "    def __init__(self,name,hobbies):\n",
    "        self.name=name\n",
    "        self.hobbies=hobbies\n",
    "    \n",
    "    def display(self):\n",
    "        print(f\"My name is {self.name} and hobbies are {self.display}\")\n",
    "\n",
    "obj1=myself(\"sahil\",\"reading and writing novels\")\n",
    "print(obj1.__dict__)"
   ]
  },
  {
   "cell_type": "code",
   "execution_count": 15,
   "metadata": {},
   "outputs": [
    {
     "name": "stdout",
     "output_type": "stream",
     "text": [
      "python_developer\n",
      "sahil\n",
      "{'__module__': '__main__', 'id': 7, 'name': 'sahil', 'gender': 'male', '__dict__': <attribute '__dict__' of 'student' objects>, '__weakref__': <attribute '__weakref__' of 'student' objects>, '__doc__': None}\n"
     ]
    }
   ],
   "source": [
    "class student:\n",
    "    id=7\n",
    "    name=\"sahil\"\n",
    "    gender=\"male\"\n",
    "\n",
    "setattr(myself,\"class\",\"python_developer\")\n",
    "x=getattr(myself,\"class\")\n",
    "print(x)\n",
    "\n",
    "del student.name\n",
    "print(student.name)\n",
    "\n",
    "print(student.__dict__)"
   ]
  },
  {
   "cell_type": "code",
   "execution_count": 18,
   "metadata": {},
   "outputs": [
    {
     "name": "stdout",
     "output_type": "stream",
     "text": [
      "True\n",
      "True\n",
      "True\n"
     ]
    }
   ],
   "source": [
    "class student:\n",
    "    def __init__(self,i,n,g):\n",
    "        self.id=i\n",
    "        self.name=n\n",
    "        self.gender=g\n",
    "\n",
    "class marks(student):\n",
    "    def __init__(self,m):\n",
    "        self.marks=m\n",
    "\n",
    "obj1=student(7,\"sahil\",\"male\")\n",
    "obj2=marks(100)\n",
    "\n",
    "print(isinstance(obj1,student))\n",
    "print(isinstance(obj2,student))\n",
    "print(issubclass(marks,student))\n",
    "\n"
   ]
  },
  {
   "cell_type": "code",
   "execution_count": 1,
   "metadata": {},
   "outputs": [
    {
     "name": "stdout",
     "output_type": "stream",
     "text": [
      "80000\n",
      "20000\n",
      "12000\n",
      "employee name: sahil\n",
      "                employee worked_hours: 80\n",
      "                employee salary: 50000\n",
      "                employee department: ml engineer \n",
      "employee name: dipesh\n",
      "                employee worked_hours: 100\n",
      "                employee salary: 10000\n",
      "                employee department: sahil ka assistent \n",
      "employee name: kushagra\n",
      "                employee worked_hours: 120\n",
      "                employee salary: 5000\n",
      "                employee department: dipesh ka assistent \n"
     ]
    }
   ],
   "source": [
    "class employee:\n",
    "    \n",
    "    def __init__(self,name,id,hours_worked,sal,department):\n",
    "        self.name=name\n",
    "        self.emp_id=id\n",
    "        self.hours=hours_worked\n",
    "        self.sal=sal\n",
    "        self.department=department\n",
    "    \n",
    "    def calculate_overtime(self,hours):\n",
    "        if hours >50:\n",
    "            over=hours - 50\n",
    "            return over*(self.sal//50)\n",
    "        else:\n",
    "            return 0 \n",
    "\n",
    "    def print_details(self):\n",
    "        print(f\"\"\"employee name: {self.name}\n",
    "                  employee id: {self.emp_id}\n",
    "                employee worked_hours: {self.hours}\n",
    "                employee salary: {self.sal}\n",
    "                employee department: {self.department} \"\"\")\n",
    "    \n",
    "    def cal_salary(self):\n",
    "        overtime=self.calculate_overtime(self.hours)\n",
    "        return self.sal+overtime\n",
    "    \n",
    "    def assign_depart(self,x):\n",
    "        self.department=x\n",
    "        \n",
    "\n",
    "\n",
    "obj_list=[]\n",
    "n=int(input(\"enter the number of objects: \"))\n",
    "for i in range(n):\n",
    "    name=input(\"enter the name: \")\n",
    "    id=input(\"enter the employee id: \")\n",
    "    hours=int(input(\"enter the no of hours worked: \"))\n",
    "    sal=int(input(\"enter the salary: \"))\n",
    "    department=input(\"enter the department: \")\n",
    "    a=employee(name,id,hours,sal,department)\n",
    "    obj_list.append(a)\n",
    "\n",
    "for i in range(n):\n",
    "    obj_list[i].print_details()\n",
    "    print(f\"total salary: {obj_list[i].cal_salary()}\")\n",
    "\n",
    "\n",
    "a=input(\"enter yes or no to change some department: \")\n",
    "if a=='yes':\n",
    "    id=input(\"enter the id of the employee: \")\n",
    "    new_dept=input(\"enter the new department of the employee: \")\n",
    "    for i in range(n):\n",
    "        if obj_list[i].emp_id==id:\n",
    "            obj_list[i].assign_depart(new_dept)\n",
    "            break\n",
    "else:\n",
    "    print(a)\n",
    "        \n",
    "\n",
    "\n",
    "\n"
   ]
  },
  {
   "cell_type": "code",
   "execution_count": null,
   "metadata": {},
   "outputs": [],
   "source": [
    "class item:\n",
    "    def __init__(self,i,n,sc,p):\n",
    "        self.item_id=i\n",
    "        self.item_name=n\n",
    "        self.stock_count=sc\n",
    "        self.price=p\n",
    "        \n",
    "class inventory:\n",
    "    dict1={}\n",
    "    \n",
    "    def add_item(self,a):\n",
    "        inventory.dict1[a.item_id]=[a.item_name,a.stock_count,a.price]\n",
    "    \n",
    "    def update_item(self,i,n,sc,p):\n",
    "        if i in inventory.dict1:\n",
    "            a=[n,sc,p]\n",
    "            inventory.dict1[i]=a\n",
    "        else:\n",
    "            return False\n",
    "    \n",
    "    def check_item_detail(self,i):\n",
    "        if i in inventory.dict1:\n",
    "            print(inventory.dict1[i])\n",
    "        else:\n",
    "            return False\n",
    "\n",
    "inventory1=inventory()\n",
    "\n",
    "n=int(input(\"enter the number of items: \"))\n",
    "for i in range(len(n)):\n",
    "    item_id=int(input(\"enter the id: \"))\n",
    "    item_name=input(\"enter the name: \")\n",
    "    stock_count=int(input(\"enter the item count: \"))\n",
    "    price=int(input(\"enter the price of the item: \"))\n",
    "    a=item(item_id,item_name,stock_count,price)\n",
    "    inventory1.add_item(a)\n",
    "\n",
    "id=int(input(\"enter the id of item: \"))\n",
    "inventory1.check_item_detail(id)\n",
    "\n",
    "\n",
    "                \n",
    "    \n",
    "\n",
    "        \n"
   ]
  },
  {
   "cell_type": "code",
   "execution_count": 4,
   "metadata": {},
   "outputs": [
    {
     "name": "stdout",
     "output_type": "stream",
     "text": [
      "True\n"
     ]
    }
   ],
   "source": [
    "class parenthesis:\n",
    "    def __init__(self,str1):\n",
    "        self.str1=str1\n",
    "    \n",
    "    def is_Valid(self,stack):\n",
    "        stack.append(self.str1[0])\n",
    "        for i in range(1,len(self.str1)):\n",
    "            if stack:\n",
    "                if ((stack[-1]=='(' and self.str1[i]==')') or (stack[-1]=='{' and self.str1[i]=='}') or (stack[-1]=='[' and self.str1[i]==']')):\n",
    "                    stack.pop()\n",
    "                else:\n",
    "                    stack.append(self.str1[i])\n",
    "            else:\n",
    "                stack.append(self.str1[i])\n",
    "        return not stack\n",
    "\n",
    "str2=input(\"Enter the string str1: \")\n",
    "stack=[]\n",
    "p1=parenthesis(str2)\n",
    "print(p1.is_Valid(stack)==True)\n",
    "        "
   ]
  },
  {
   "cell_type": "code",
   "execution_count": null,
   "metadata": {},
   "outputs": [],
   "source": [
    "class customer:\n",
    "    def __init__(self,name,table_no=0):\n",
    "        self.name=name\n",
    "        self.table_no=table_no\n",
    "        self.order_list=[]\n",
    "    \n",
    "    def make_table_reservation(self,x,r):\n",
    "        self.table_no=x\n",
    "        r.reserved_tables.add(x)\n",
    "    \n",
    "    def customer_ordering_primarily(self,n,b):\n",
    "        for i in range(n):\n",
    "            a=input(\"enter the order name: \")\n",
    "            if a in b.menu_items:\n",
    "                self.order_list.append(a)\n",
    "            else:\n",
    "                print(\"not available \")\n",
    "    \n",
    "    def customer_ordering_more(self,b):\n",
    "        a=input(\"enter the order name: \")\n",
    "        if a in b.menu_items:\n",
    "            self.order_list.append(a)\n",
    "        else:\n",
    "            print(\"not available \")\n",
    "        \n",
    "        \n",
    "    \n",
    "    \n",
    "    \n",
    "class restaurant:\n",
    "    menu_items=[]\n",
    "    dict1={}\n",
    "    reserved_tables=set()\n",
    "\n",
    "    @classmethod\n",
    "    def add_menu_items(cls,n):\n",
    "        cls.menu_items.append(n)\n",
    "    \n",
    "    @classmethod\n",
    "    def reserved_table_available_or_not(cls,a):\n",
    "        if a.table_no in cls.reserved_tables:\n",
    "            return False\n",
    "        else:\n",
    "            cls.reserved_tables.add(a.table_no)\n",
    "    @classmethod\n",
    "    def print_menu(cls):\n",
    "        print(cls.menu_items)\n",
    "\n",
    "    @classmethod\n",
    "    def print_reserved_tables(cls):\n",
    "        print(cls.reserved_tables)\n",
    "    \n",
    "    @classmethod\n",
    "    def setorder(cls,a):\n",
    "        cls.dict1[a.name]=[a.table_no,a.order_list]\n",
    "    \n",
    "    @classmethod\n",
    "    def print_order(cls):\n",
    "        for key,value in cls.dict1.items():\n",
    "            print(f\"{key} : {value}\")\n",
    "\n",
    "\n",
    "\n",
    "if __name__=='__main__':\n",
    "    \n"
   ]
  }
 ],
 "metadata": {
  "kernelspec": {
   "display_name": "Python 3",
   "language": "python",
   "name": "python3"
  },
  "language_info": {
   "codemirror_mode": {
    "name": "ipython",
    "version": 3
   },
   "file_extension": ".py",
   "mimetype": "text/x-python",
   "name": "python",
   "nbconvert_exporter": "python",
   "pygments_lexer": "ipython3",
   "version": "3.11.4"
  }
 },
 "nbformat": 4,
 "nbformat_minor": 2
}
