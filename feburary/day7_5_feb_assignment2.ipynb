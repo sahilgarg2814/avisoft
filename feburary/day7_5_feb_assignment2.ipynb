{
 "cells": [
  {
   "cell_type": "code",
   "execution_count": null,
   "metadata": {},
   "outputs": [],
   "source": [
    "import csv\n",
    "import pandas as pd"
   ]
  },
  {
   "cell_type": "code",
   "execution_count": null,
   "metadata": {},
   "outputs": [],
   "source": [
    "fields=['Name','Branch','Year','CGPA']\n",
    "rows=[['Nikhil','COE','2','9.0'],\n",
    "['Sanchit','COE','2','9.1'],\n",
    "['Aditya','IT','2','9.3'],\n",
    "['Sagar','SE','1','9.5'],\n",
    "['Prateek','MCE','3','7.8'],\n",
    "['SAhil','EP','2','9.1']\n",
    "]\n",
    "\n",
    "filename=\"university_records.csv\"\n",
    "with open(filename,'w') as csvfile:\n",
    "    csv_writer=csv.writer(csvfile)\n",
    "    csv_writer.writerow(fields)\n",
    "    csv_writer.writerows(rows)"
   ]
  },
  {
   "cell_type": "code",
   "execution_count": null,
   "metadata": {},
   "outputs": [],
   "source": [
    "df=pd.read_csv(\"D:\\datasets2\\scores.csv\",)\n",
    "print(df)\n",
    "\n",
    "x=pd.Series(df.iloc[:,1])\n",
    "print(x.min())\n",
    "print(x.mean())\n",
    "print(x.max())\n"
   ]
  },
  {
   "cell_type": "code",
   "execution_count": null,
   "metadata": {},
   "outputs": [],
   "source": [
    "filename=\"sahil_the_king\"\n",
    "with open(filename,'a') as f:\n",
    "    f.write(\"sahil will be the king of this world\\n\")\n",
    "\n",
    "with open(filename,'a') as f:\n",
    "    for i in range(3):\n",
    "        f.write(\"sahil garg\\n\")"
   ]
  },
  {
   "cell_type": "code",
   "execution_count": null,
   "metadata": {},
   "outputs": [],
   "source": [
    "with open(filename,'w') as f:\n",
    "    for i in range(3):\n",
    "        f.write(\"sahil has hacked into the system and oerwritten everything.\\n\")"
   ]
  },
  {
   "cell_type": "code",
   "execution_count": 1,
   "metadata": {},
   "outputs": [
    {
     "name": "stdout",
     "output_type": "stream",
     "text": [
      "<?xml version=\"1.0\" encoding=\"UTF-8\"?>\n",
      "<library>\n",
      "    <book>\n",
      "        <title>Harry Potter and the Sorcerer's Stone</title>\n",
      "        <author>J.K. Rowling</author>\n",
      "        <genre>Fantasy</genre>\n",
      "        <published_year>1997</published_year>\n",
      "    </book>\n",
      "    <book>\n",
      "        <title name=\"sahil\" test=\"2\">The Great Gatsby</title>\n",
      "        <author>F. Scott Fitzgerald</author>\n",
      "        <genre>Classic</genre>\n",
      "        <published_year>1925</published_year>\n",
      "    </book>\n",
      "    <book>\n",
      "        <title>1984</title>\n",
      "        <author>George Orwell</author>\n",
      "        <genre>Dystopian</genre>\n",
      "        <published_year>1949</published_year>\n",
      "    </book>\n",
      "</library>\n",
      "\n"
     ]
    }
   ],
   "source": [
    "from bs4 import BeautifulSoup\n",
    "with open(\"D:\\datasets2\\sample_file.xml\",'r')as f:\n",
    "    data=f.read()\n",
    "print(data)"
   ]
  },
  {
   "cell_type": "code",
   "execution_count": null,
   "metadata": {},
   "outputs": [],
   "source": [
    "bs_data=BeautifulSoup(data,\"xml\") # storing the data in beautifulsoap parser\n",
    "\n",
    "b_author=bs_data.find_all('author')   # find all instances of the tag\n",
    "\n",
    "\n",
    "b_title=bs_data.find('title')   # extract first instance of the tag\n",
    "\n",
    "b_book=bs_data.find_all(\"book\")\n",
    "\n",
    "b_name=bs_data.find('title', {'name':'sahil'})\n",
    "print(b_name.get(\"test\"))"
   ]
  },
  {
   "cell_type": "code",
   "execution_count": null,
   "metadata": {},
   "outputs": [],
   "source": [
    "# witing the xml file\n",
    "with open(\"D:\\datasets2\\sample_file.xml\",'r')as f:\n",
    "    data=f.read()\n",
    "\n",
    "bs_data=BeautifulSoup(data,\"xml\")\n",
    "\n",
    "for tag in bs_data.find_all('title',{'name':'sahil'}):\n",
    "    tag['test']='what'\n",
    "\n",
    "print(bs_data)"
   ]
  },
  {
   "cell_type": "code",
   "execution_count": null,
   "metadata": {},
   "outputs": [],
   "source": [
    "items=['Mango','Orange','Apple','Lemon']\n",
    "file=open('items.txt','w')\n",
    "\n",
    "for item in items:\n",
    "    file.write(item+\"\\n\")\n",
    "file.close()"
   ]
  },
  {
   "cell_type": "code",
   "execution_count": null,
   "metadata": {},
   "outputs": [],
   "source": [
    "items = ['Table ', 'Chair ', 'Mirror ', 'Curtain ', 'Almirah ']\n",
    "file=open('items2.txt','w')\n",
    "file.writelines(items)\n",
    "file.close()\n",
    "# The writelines() takes a list as its argument and writes all the elements of the list to a file. In the text file, \n",
    "# the list elements are appended one after another without any space or newline characters."
   ]
  },
  {
   "cell_type": "code",
   "execution_count": null,
   "metadata": {},
   "outputs": [],
   "source": [
    "with open('item3.txt','w') as tfile:\n",
    "    tfile.write('\\n'.join(items))"
   ]
  },
  {
   "cell_type": "code",
   "execution_count": null,
   "metadata": {},
   "outputs": [],
   "source": [
    "with open(\"D:\\datasets2\\poem.txt\",'r') as f:\n",
    "    data=f.read()\n",
    "    data=data.replace(',','')\n",
    "    data=data.replace('|','')\n",
    "    data=data.replace('—','')\n",
    "    data=data.replace(';','')\n",
    "    data=data.replace('.','')\n",
    "\n",
    "dict1={}\n",
    "\n",
    "for i in data.split():\n",
    "    if i in dict1:\n",
    "        dict1[i]+=1\n",
    "    else:\n",
    "        dict1[i]=1\n",
    "\n",
    "maxvalue=0\n",
    "maxkey=\"\"\n",
    "for key,value in dict1.items():\n",
    "    if value>maxvalue:\n",
    "        maxvalue=value\n",
    "        maxkey=key\n",
    "\n",
    "print(maxkey)"
   ]
  },
  {
   "cell_type": "code",
   "execution_count": null,
   "metadata": {},
   "outputs": [],
   "source": [
    "import pandas as pd \n",
    "df=pd.read_csv(\"D:\\datasets2\\stocks.csv\")\n",
    "\n",
    "print(df)\n",
    "\n",
    "df['pe ratio']=df['Price']//df['Earnings Per Share']\n",
    "print(df.columns)\n",
    "df['price to book ratio']=df['Price']//df[' Book Value']\n",
    "print(df)"
   ]
  },
  {
   "cell_type": "code",
   "execution_count": null,
   "metadata": {},
   "outputs": [],
   "source": [
    "df2=df[['Company Name','pe ratio','price to book ratio']]\n",
    "df2"
   ]
  },
  {
   "cell_type": "code",
   "execution_count": null,
   "metadata": {},
   "outputs": [],
   "source": [
    "df2.to_csv('output.csv')"
   ]
  }
 ],
 "metadata": {
  "kernelspec": {
   "display_name": "Python 3",
   "language": "python",
   "name": "python3"
  },
  "language_info": {
   "codemirror_mode": {
    "name": "ipython",
    "version": 3
   },
   "file_extension": ".py",
   "mimetype": "text/x-python",
   "name": "python",
   "nbconvert_exporter": "python",
   "pygments_lexer": "ipython3",
   "version": "3.11.4"
  }
 },
 "nbformat": 4,
 "nbformat_minor": 2
}
