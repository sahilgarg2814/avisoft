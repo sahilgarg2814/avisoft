{
 "cells": [
  {
   "cell_type": "code",
   "execution_count": 23,
   "metadata": {},
   "outputs": [
    {
     "data": {
      "text/plain": [
       "0"
      ]
     },
     "execution_count": 23,
     "metadata": {},
     "output_type": "execute_result"
    }
   ],
   "source": [
    "# Write a function that accepts a line of text and a single letter as input (your program should be able to handle all upper and lower cases)\n",
    "# and returns the number of times this letter is the second last character of a word. Note your program should be able to handle different cases. \n",
    "# And check if the user input is a single letter. Think about how you deal with words ending with punctuation. \n",
    "# Example: Input text = \"When the sun rises at dawn, the CHICKEN flies into the window.\" \n",
    "# Input letter = \"E\" \n",
    "# Output = \"The letter E has appeared 4 times as the second last letter of a word.\"\n",
    "\n",
    "def count_second_letters(line,letter):\n",
    "    letter=letter.lower()\n",
    "    if len(letter)>1:\n",
    "        print(\"invalid len of letter\")\n",
    "        return\n",
    "    line=line.replace(',','')\n",
    "    line=line.replace('|','')\n",
    "    line=line.replace('.','')\n",
    "    line=line.replace('-','')\n",
    "    line=line.replace(';','')\n",
    "    line=line.replace(':',' ')\n",
    "    data=line.split()\n",
    "\n",
    "    count=0\n",
    "\n",
    "    for i in data:\n",
    "        if i[-2].lower()==letter:\n",
    "            count+=1\n",
    "    \n",
    "    return count\n",
    "\n",
    "line=input(\"enter the text: \")\n",
    "letter=input(\"enter the single character: \")\n",
    "count_second_letters(line,letter)\n"
   ]
  },
  {
   "cell_type": "code",
   "execution_count": 46,
   "metadata": {},
   "outputs": [
    {
     "name": "stdout",
     "output_type": "stream",
     "text": [
      "hntesnrssa an h HCE le notewno.\n"
     ]
    }
   ],
   "source": [
    "# Write a Python program to ask user input of a string, then ask user input of what letters they \n",
    "# want to remove from the string. User can either put in \"odd\", \"even\" or a number \"n\" that is \n",
    "# greater than 2. When user input \"odd\", it will remove the characters which have odd numbers in \n",
    "# the sequence of the string. When user input \"even\", it will remove the characters which have even numbers \n",
    "# in the sequence of the string. When user input \"n\" number, it will remove the characters which have nth numbers \n",
    "# in the sequence of the string. Note that we are talking about the sequence of the letters, so the first letter\n",
    "# in a string is number 1, the second is number 2, and so on.\n",
    "\n",
    "\n",
    "# occurance wise\n",
    "from collections import Counter\n",
    "def remove_characters(line,no_of_letter:str):\n",
    "    data=Counter(line.lower())\n",
    "    print(data)\n",
    "    res=\"\"\n",
    "\n",
    "    for i in data:\n",
    "        print(i,data[i])\n",
    "\n",
    "\n",
    "    for i in range(len(line)):\n",
    "        val=data[line[i].lower()]\n",
    "        if no_of_letter=='odd':\n",
    "            if val%2==1:\n",
    "                continue\n",
    "            else:\n",
    "                res+=line[i]\n",
    "                \n",
    "        elif no_of_letter=='even':\n",
    "            if val%2==0:\n",
    "                continue\n",
    "            else:\n",
    "                res+=line[i]\n",
    "        else:\n",
    "            n=int(no_of_letter)\n",
    "            if val==n:\n",
    "                continue\n",
    "            else:\n",
    "                res+=line[i]\n",
    "    print(res)\n",
    "\n",
    "# position wise\n",
    "def remove_characters2(line,no_of_letter:str):\n",
    "    res=\"\"\n",
    "\n",
    "    for i in range(len(line)):\n",
    "        if no_of_letter=='odd':\n",
    "            if (i+1)%2==1:\n",
    "                continue\n",
    "            else:\n",
    "                res+=line[i]\n",
    "                \n",
    "        elif no_of_letter=='even':\n",
    "            if (i+1)%2==0:\n",
    "                continue\n",
    "            else:\n",
    "                res+=line[i]\n",
    "        else:\n",
    "            n=int(no_of_letter)\n",
    "            if (i+1)%n==0:\n",
    "                continue\n",
    "            else:\n",
    "                res+=line[i]\n",
    "    print(res)\n",
    "line=input(\"enter the text: \")\n",
    "letter=input(\"enter the odd or even or any other number you want: \")\n",
    "remove_characters2(line,letter)\n"
   ]
  },
  {
   "cell_type": "code",
   "execution_count": 26,
   "metadata": {},
   "outputs": [
    {
     "data": {
      "text/plain": [
       "['__add__',\n",
       " '__class__',\n",
       " '__contains__',\n",
       " '__delattr__',\n",
       " '__dir__',\n",
       " '__doc__',\n",
       " '__eq__',\n",
       " '__format__',\n",
       " '__ge__',\n",
       " '__getattribute__',\n",
       " '__getitem__',\n",
       " '__getnewargs__',\n",
       " '__getstate__',\n",
       " '__gt__',\n",
       " '__hash__',\n",
       " '__init__',\n",
       " '__init_subclass__',\n",
       " '__iter__',\n",
       " '__le__',\n",
       " '__len__',\n",
       " '__lt__',\n",
       " '__mod__',\n",
       " '__mul__',\n",
       " '__ne__',\n",
       " '__new__',\n",
       " '__reduce__',\n",
       " '__reduce_ex__',\n",
       " '__repr__',\n",
       " '__rmod__',\n",
       " '__rmul__',\n",
       " '__setattr__',\n",
       " '__sizeof__',\n",
       " '__str__',\n",
       " '__subclasshook__',\n",
       " 'capitalize',\n",
       " 'casefold',\n",
       " 'center',\n",
       " 'count',\n",
       " 'encode',\n",
       " 'endswith',\n",
       " 'expandtabs',\n",
       " 'find',\n",
       " 'format',\n",
       " 'format_map',\n",
       " 'index',\n",
       " 'isalnum',\n",
       " 'isalpha',\n",
       " 'isascii',\n",
       " 'isdecimal',\n",
       " 'isdigit',\n",
       " 'isidentifier',\n",
       " 'islower',\n",
       " 'isnumeric',\n",
       " 'isprintable',\n",
       " 'isspace',\n",
       " 'istitle',\n",
       " 'isupper',\n",
       " 'join',\n",
       " 'ljust',\n",
       " 'lower',\n",
       " 'lstrip',\n",
       " 'maketrans',\n",
       " 'partition',\n",
       " 'removeprefix',\n",
       " 'removesuffix',\n",
       " 'replace',\n",
       " 'rfind',\n",
       " 'rindex',\n",
       " 'rjust',\n",
       " 'rpartition',\n",
       " 'rsplit',\n",
       " 'rstrip',\n",
       " 'split',\n",
       " 'splitlines',\n",
       " 'startswith',\n",
       " 'strip',\n",
       " 'swapcase',\n",
       " 'title',\n",
       " 'translate',\n",
       " 'upper',\n",
       " 'zfill']"
      ]
     },
     "execution_count": 26,
     "metadata": {},
     "output_type": "execute_result"
    }
   ],
   "source": [
    "dir(str)"
   ]
  },
  {
   "cell_type": "code",
   "execution_count": 33,
   "metadata": {},
   "outputs": [
    {
     "name": "stdout",
     "output_type": "stream",
     "text": [
      "When the sun rises at dawn, the CHICKEN flies into the window.\n"
     ]
    },
    {
     "data": {
      "text/plain": [
       "'Xifo uif tvo sjtft bu ebxo, uif DIJDLFO gmjft joup uif xjoepx.'"
      ]
     },
     "execution_count": 33,
     "metadata": {},
     "output_type": "execute_result"
    }
   ],
   "source": [
    "# Write a Python program to create a Caesar encryption. Your program will first ask for the input of a secret message, \n",
    "# then ask how many places you wish to shift each letter in the alphabet. In the end, your program will produce the \n",
    "# shifted secret message as a string. Your program should be able to handle all upper and lower cases, and check \n",
    "# if the user inputs are valid. Note: In cryptography, a Caesar cipher, also known as Caesar's cipher, the shift cipher, \n",
    "# Caesar's code or Caesar shift, is one of the simplest and most widely known encryption techniques. It is \n",
    "# a type of substitution cipher in which each letter in the plaintext is replaced by a letter some fixed number \n",
    "# of positions down the alphabet. For example, with a shift of 3, A would be replaced by D, B would become E, \n",
    "# and so on. The method is named after Julius Caesar, who used it in his private correspondence. \n",
    "# Example: Secret message = \"This is a secret message\" Shift = 5 Each letter is shifted 5 places down \n",
    "# in alphabetical order. Secret output: \"ymnx nx f xjhwjy rjxxflj\" Hint: 1, the 26 letters in the alphabet \n",
    "# are not indexed, put them into a list and index them first. 2, Think about what to do when the shifted \n",
    "# letter goes beyond 26. e.g. letter z shifted by 5?\n",
    "\n",
    "def Caesar_cryptography(line,shift):\n",
    "    list_lower=[]\n",
    "    list_upper=[]\n",
    "\n",
    "    for i in range(65,91):\n",
    "        list_upper.append(chr(i))\n",
    "    \n",
    "    for i in range(97,123):\n",
    "        list_lower.append(chr(i))\n",
    "    \n",
    "    line=list(line)\n",
    "    for i in range(len(line)):\n",
    "        if not line[i].isspace():\n",
    "            if line[i].islower():\n",
    "                a=list_lower.index(line[i])\n",
    "                a=(a+shift)%26\n",
    "                line[i]=list_lower[a]\n",
    "            elif line[i].isupper():\n",
    "                a=list_upper.index(line[i])\n",
    "                a=(a+shift)%26\n",
    "                line[i]=list_upper[a]\n",
    "    line= ''.join(line)\n",
    "    return line\n",
    "\n",
    "line=input(\"enter the text: \")\n",
    "print(line)\n",
    "shift=int(input(\"enter the no by which we have to shift the letters: \"))\n",
    "Caesar_cryptography(line,shift)\n",
    "\n"
   ]
  },
  {
   "cell_type": "markdown",
   "metadata": {},
   "source": [
    "Write a Python program to ask how many elements users want to create in a list, then let the user create 2 lists with the number of elements previously entered. Then create and display all combinations of letters, selecting each letter from a different key in a dictionary, and place all these combinations in a new list. Example: How many elements? 2 List 1 = ['a', 'b'] List 2 = ['c','d'] Output: newlist = [ac, ad, bc, bd]"
   ]
  },
  {
   "cell_type": "code",
   "execution_count": 47,
   "metadata": {},
   "outputs": [
    {
     "name": "stdout",
     "output_type": "stream",
     "text": [
      "['12', '1v', 'd2', 'dv']\n"
     ]
    }
   ],
   "source": [
    "n=int(input(\"enter the size of the first list: \"))\n",
    "m=int(input(\"enter the size of second list: \"))\n",
    "\n",
    "list1=[]\n",
    "list2=[]\n",
    "\n",
    "for i in range(n):\n",
    "    a=input(\"enter the letter for list1 : \")\n",
    "    list1.append(a)\n",
    "\n",
    "for i in range(m):\n",
    "    a=input(\"enter the letter for list2 : \")\n",
    "    list2.append(a)\n",
    "\n",
    "res=[]\n",
    "for i in list1:\n",
    "    for j in list2:\n",
    "        res.append(i+j)\n",
    "\n",
    "print(res)"
   ]
  }
 ],
 "metadata": {
  "kernelspec": {
   "display_name": "Python 3",
   "language": "python",
   "name": "python3"
  },
  "language_info": {
   "codemirror_mode": {
    "name": "ipython",
    "version": 3
   },
   "file_extension": ".py",
   "mimetype": "text/x-python",
   "name": "python",
   "nbconvert_exporter": "python",
   "pygments_lexer": "ipython3",
   "version": "3.11.4"
  }
 },
 "nbformat": 4,
 "nbformat_minor": 2
}
